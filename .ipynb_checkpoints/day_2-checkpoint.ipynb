{
 "cells": [
  {
   "cell_type": "code",
   "execution_count": 1,
   "id": "d91a44f6-9104-414a-beb7-85df8350382b",
   "metadata": {},
   "outputs": [
    {
     "name": "stdout",
     "output_type": "stream",
     "text": [
      "Hello World\n"
     ]
    }
   ],
   "source": [
    "print(\"Hello World\")"
   ]
  },
  {
   "cell_type": "code",
   "execution_count": 2,
   "id": "bea8bc53-28e7-4370-ba5d-3ce8a2cd2ecb",
   "metadata": {},
   "outputs": [
    {
     "name": "stdout",
     "output_type": "stream",
     "text": [
      "Python\n"
     ]
    }
   ],
   "source": [
    "#Python 출력\n",
    "print(\"Python\")"
   ]
  },
  {
   "cell_type": "code",
   "execution_count": 3,
   "id": "141026b4-237e-4d92-8092-ec5cd6d0832a",
   "metadata": {},
   "outputs": [],
   "source": [
    "#변수\n",
    "a=\"apple\""
   ]
  },
  {
   "cell_type": "code",
   "execution_count": 4,
   "id": "ea9661a7-1185-4b1e-910b-248970740b4c",
   "metadata": {},
   "outputs": [
    {
     "name": "stdout",
     "output_type": "stream",
     "text": [
      "apple\n"
     ]
    }
   ],
   "source": [
    "print(a)"
   ]
  },
  {
   "cell_type": "code",
   "execution_count": 6,
   "id": "de94ba4b-7155-40e2-b216-a6c36dab6153",
   "metadata": {},
   "outputs": [],
   "source": [
    "a=\"banana\""
   ]
  },
  {
   "cell_type": "code",
   "execution_count": 7,
   "id": "96430e0a-7e14-4326-89e9-be4c6037e2a0",
   "metadata": {},
   "outputs": [
    {
     "name": "stdout",
     "output_type": "stream",
     "text": [
      "banana\n"
     ]
    }
   ],
   "source": [
    "print(a)"
   ]
  },
  {
   "cell_type": "code",
   "execution_count": 9,
   "id": "e5a07c53-9401-4ed2-9f4e-8ec8e0cd2780",
   "metadata": {},
   "outputs": [],
   "source": [
    "a=1"
   ]
  },
  {
   "cell_type": "code",
   "execution_count": 10,
   "id": "27136bfe-54c2-489d-835e-6597614cddb4",
   "metadata": {},
   "outputs": [
    {
     "data": {
      "text/plain": [
       "1"
      ]
     },
     "execution_count": 10,
     "metadata": {},
     "output_type": "execute_result"
    }
   ],
   "source": [
    "a"
   ]
  },
  {
   "cell_type": "code",
   "execution_count": 11,
   "id": "b86fd060-cd4b-45ba-a773-89ce8d022f47",
   "metadata": {},
   "outputs": [
    {
     "data": {
      "text/plain": [
       "int"
      ]
     },
     "execution_count": 11,
     "metadata": {},
     "output_type": "execute_result"
    }
   ],
   "source": [
    "type(1)"
   ]
  },
  {
   "cell_type": "code",
   "execution_count": 12,
   "id": "ff53bcc3-2f73-45cc-9051-d4a886ab700d",
   "metadata": {},
   "outputs": [
    {
     "data": {
      "text/plain": [
       "str"
      ]
     },
     "execution_count": 12,
     "metadata": {},
     "output_type": "execute_result"
    }
   ],
   "source": [
    "type(\"1\")\n"
   ]
  },
  {
   "cell_type": "code",
   "execution_count": 13,
   "id": "dade6c98-0ce8-4b5c-a9c5-38e8d0a09c7e",
   "metadata": {},
   "outputs": [
    {
     "data": {
      "text/plain": [
       "bool"
      ]
     },
     "execution_count": 13,
     "metadata": {},
     "output_type": "execute_result"
    }
   ],
   "source": [
    "type(True)"
   ]
  },
  {
   "cell_type": "code",
   "execution_count": 14,
   "id": "8dd903d2-6ad6-430b-bc3d-bcfb9ef3b605",
   "metadata": {},
   "outputs": [
    {
     "data": {
      "text/plain": [
       "bool"
      ]
     },
     "execution_count": 14,
     "metadata": {},
     "output_type": "execute_result"
    }
   ],
   "source": [
    "type(False)"
   ]
  },
  {
   "cell_type": "code",
   "execution_count": 15,
   "id": "3bc7cfd1-f096-437c-ab0c-65eefb82bed7",
   "metadata": {},
   "outputs": [
    {
     "data": {
      "text/plain": [
       "NoneType"
      ]
     },
     "execution_count": 15,
     "metadata": {},
     "output_type": "execute_result"
    }
   ],
   "source": [
    "type(None)"
   ]
  },
  {
   "cell_type": "code",
   "execution_count": 16,
   "id": "0fda1b2d-1139-477e-990a-74fcabdf8f13",
   "metadata": {},
   "outputs": [],
   "source": [
    "a=1"
   ]
  },
  {
   "cell_type": "code",
   "execution_count": 17,
   "id": "7e46d435-471c-44df-b499-d379d6083eb4",
   "metadata": {},
   "outputs": [
    {
     "data": {
      "text/plain": [
       "int"
      ]
     },
     "execution_count": 17,
     "metadata": {},
     "output_type": "execute_result"
    }
   ],
   "source": [
    "type(a)"
   ]
  },
  {
   "cell_type": "code",
   "execution_count": 18,
   "id": "8392abc5-d52c-4bfe-bf1e-d95d42fbb4a3",
   "metadata": {},
   "outputs": [],
   "source": [
    "a=str(1)"
   ]
  },
  {
   "cell_type": "code",
   "execution_count": 19,
   "id": "9d5dd09d-c10f-4dfd-86d0-9c6cd43e4dce",
   "metadata": {},
   "outputs": [
    {
     "data": {
      "text/plain": [
       "str"
      ]
     },
     "execution_count": 19,
     "metadata": {},
     "output_type": "execute_result"
    }
   ],
   "source": [
    "type(a)"
   ]
  },
  {
   "cell_type": "code",
   "execution_count": 21,
   "id": "40bd2057-1da1-4552-97be-f5bd9aa4a177",
   "metadata": {},
   "outputs": [],
   "source": [
    "a=[1,2,3,4,5]"
   ]
  },
  {
   "cell_type": "code",
   "execution_count": 22,
   "id": "d4a53394-4d89-4155-9020-55c59b7393b0",
   "metadata": {},
   "outputs": [
    {
     "data": {
      "text/plain": [
       "[1, 2, 3, 4, 5]"
      ]
     },
     "execution_count": 22,
     "metadata": {},
     "output_type": "execute_result"
    }
   ],
   "source": [
    "a"
   ]
  },
  {
   "cell_type": "code",
   "execution_count": 23,
   "id": "cb794a16-fe37-4360-b53b-06dbe3158c52",
   "metadata": {},
   "outputs": [
    {
     "data": {
      "text/plain": [
       "list"
      ]
     },
     "execution_count": 23,
     "metadata": {},
     "output_type": "execute_result"
    }
   ],
   "source": [
    "type(a)"
   ]
  },
  {
   "cell_type": "code",
   "execution_count": 24,
   "id": "96549346-2540-45bd-ae4a-73f964409300",
   "metadata": {},
   "outputs": [
    {
     "data": {
      "text/plain": [
       "1"
      ]
     },
     "execution_count": 24,
     "metadata": {},
     "output_type": "execute_result"
    }
   ],
   "source": [
    "a[0]"
   ]
  },
  {
   "cell_type": "code",
   "execution_count": 25,
   "id": "fdd302ce-8ba5-4df2-8102-5cf35d1fb656",
   "metadata": {},
   "outputs": [
    {
     "data": {
      "text/plain": [
       "4"
      ]
     },
     "execution_count": 25,
     "metadata": {},
     "output_type": "execute_result"
    }
   ],
   "source": [
    "a[3]"
   ]
  },
  {
   "cell_type": "code",
   "execution_count": 26,
   "id": "bbd1f91f-166c-4bad-9046-6750c52baf73",
   "metadata": {},
   "outputs": [],
   "source": [
    "a[3]=6"
   ]
  },
  {
   "cell_type": "code",
   "execution_count": 28,
   "id": "8a9e66cc-5e6e-4dab-be55-4cb1cab4b281",
   "metadata": {},
   "outputs": [
    {
     "data": {
      "text/plain": [
       "[1, 2, 3, 6, 5]"
      ]
     },
     "execution_count": 28,
     "metadata": {},
     "output_type": "execute_result"
    }
   ],
   "source": [
    "a"
   ]
  },
  {
   "cell_type": "code",
   "execution_count": 29,
   "id": "4599150f-55f5-4842-b997-a0cc5712d9f7",
   "metadata": {},
   "outputs": [
    {
     "data": {
      "text/plain": [
       "[2, 3]"
      ]
     },
     "execution_count": 29,
     "metadata": {},
     "output_type": "execute_result"
    }
   ],
   "source": [
    "a[1:3]"
   ]
  },
  {
   "cell_type": "code",
   "execution_count": 31,
   "id": "f30dc4ad-a91a-445a-8393-bd654ca0bef4",
   "metadata": {},
   "outputs": [
    {
     "name": "stdout",
     "output_type": "stream",
     "text": [
      "a는 양수입니다.\n"
     ]
    }
   ],
   "source": [
    "a = 1\n",
    "\n",
    "if a > 0: # 조건문(True)\n",
    "    print(\"a는 양수입니다.\") #실행문"
   ]
  },
  {
   "cell_type": "code",
   "execution_count": 32,
   "id": "2aff0fef-95af-4e02-9b40-2919dbf8775f",
   "metadata": {},
   "outputs": [
    {
     "data": {
      "text/plain": [
       "True"
      ]
     },
     "execution_count": 32,
     "metadata": {},
     "output_type": "execute_result"
    }
   ],
   "source": [
    "a>0"
   ]
  },
  {
   "cell_type": "code",
   "execution_count": 34,
   "id": "6529de41-8a89-4725-9ae6-c036279c0e30",
   "metadata": {},
   "outputs": [
    {
     "name": "stdout",
     "output_type": "stream",
     "text": [
      "a는 1\n"
     ]
    }
   ],
   "source": [
    "a = 1\n",
    "if a is int(1):\n",
    "    print(\"a는 1\")"
   ]
  },
  {
   "cell_type": "code",
   "execution_count": 35,
   "id": "ba5c3370-3d60-44f7-a9f0-22ad7419e399",
   "metadata": {},
   "outputs": [],
   "source": [
    "a = 10\n",
    "b = 20\n",
    "l = [10,30,50]"
   ]
  },
  {
   "cell_type": "code",
   "execution_count": 36,
   "id": "05c6b142-4c31-4aa1-9809-d88c7f25caeb",
   "metadata": {},
   "outputs": [
    {
     "name": "stdout",
     "output_type": "stream",
     "text": [
      "a는 10입니다\n"
     ]
    }
   ],
   "source": [
    "if a == 10: #True\n",
    "    print(\"a는 10입니다\")"
   ]
  },
  {
   "cell_type": "code",
   "execution_count": 37,
   "id": "4c660ea6-272a-42c1-a5b5-5cd00e11e9a9",
   "metadata": {},
   "outputs": [
    {
     "name": "stdout",
     "output_type": "stream",
     "text": [
      "a는 b보다 작습니다\n"
     ]
    }
   ],
   "source": [
    "if a > b: # False\n",
    "    print(\"a는 b보다 큽니다\") # 실행 X\n",
    "if a < b: # True\n",
    "    print(\"a는 b보다 작습니다\") # 실행 O"
   ]
  },
  {
   "cell_type": "code",
   "execution_count": 38,
   "id": "43d52704-5785-4013-a51d-8caff2a44b89",
   "metadata": {},
   "outputs": [
    {
     "name": "stdout",
     "output_type": "stream",
     "text": [
      "a는 l 안에 포함된다\n"
     ]
    }
   ],
   "source": [
    "if a in l:\n",
    "    print(\"a는 l 안에 포함된다\")"
   ]
  },
  {
   "cell_type": "code",
   "execution_count": 39,
   "id": "982849bd-faa6-4cf3-83cc-3bb001998fb4",
   "metadata": {},
   "outputs": [
    {
     "name": "stdout",
     "output_type": "stream",
     "text": [
      "True\n"
     ]
    }
   ],
   "source": [
    "if True:\n",
    "    print(\"True\")"
   ]
  },
  {
   "cell_type": "code",
   "execution_count": 41,
   "id": "192164c1-3519-4b87-ae4f-8490f6d26d33",
   "metadata": {},
   "outputs": [
    {
     "name": "stdout",
     "output_type": "stream",
     "text": [
      "True\n"
     ]
    }
   ],
   "source": [
    "if 1:\n",
    "    print(\"True\")"
   ]
  },
  {
   "cell_type": "code",
   "execution_count": 42,
   "id": "eb481131-a93d-4d2f-adda-2e8f5c21878c",
   "metadata": {},
   "outputs": [
    {
     "name": "stdout",
     "output_type": "stream",
     "text": [
      "True\n"
     ]
    }
   ],
   "source": [
    "if 100000: # True\n",
    "    print(\"True\")"
   ]
  },
  {
   "cell_type": "code",
   "execution_count": 45,
   "id": "8a290421-05af-4eeb-8fd7-eaa3163e3ddd",
   "metadata": {},
   "outputs": [
    {
     "name": "stdout",
     "output_type": "stream",
     "text": [
      "a는 10이고 b는 20이다\n"
     ]
    }
   ],
   "source": [
    "if a == 10 and b == 20: # True\n",
    "    print(\"a는 10이고 b는 20이다\")"
   ]
  },
  {
   "cell_type": "code",
   "execution_count": null,
   "id": "d464116e-1a3e-4afc-a444-657a16784851",
   "metadata": {},
   "outputs": [],
   "source": []
  },
  {
   "cell_type": "code",
   "execution_count": 47,
   "id": "289095b3-8f2f-4e0b-b76c-7418b98f3a65",
   "metadata": {},
   "outputs": [
    {
     "name": "stdout",
     "output_type": "stream",
     "text": [
      "a는 10 이거나 b는 15이다\n"
     ]
    }
   ],
   "source": [
    "if a == 10 or b == 15: #True\n",
    "    print(\"a는 10 이거나 b는 15이다\")"
   ]
  },
  {
   "cell_type": "code",
   "execution_count": 52,
   "id": "552b7228-482f-49cf-8c0d-c3b44571632d",
   "metadata": {},
   "outputs": [
    {
     "name": "stdout",
     "output_type": "stream",
     "text": [
      "a는 양수\n",
      "a는 양수\n",
      "a는 0이 아니다\n"
     ]
    }
   ],
   "source": [
    "a = 10\n",
    "\n",
    "# a가 음수인지, 양수인지, 0인지 확인하세요\n",
    "if a < 0:\n",
    "    print(\"a는 음수\")\n",
    "if a > 0:\n",
    "    print(\"a는 양수\")\n",
    "if a == 0:\n",
    "    print(\"a는 0\")\n",
    "\n",
    "if a < 0:\n",
    "    print(\"a는 음수\")\n",
    "elif a > 0:\n",
    "    print(\"a는 양수\")\n",
    "else:\n",
    "    print(\"a는 0\")\n",
    "\n",
    "if a == 0:\n",
    "    print(\"a는 0입니다\")\n",
    "else:\n",
    "    print(\"a는 0이 아니다\")"
   ]
  },
  {
   "cell_type": "code",
   "execution_count": 57,
   "id": "f41d0896-ae02-4af2-87d8-96f38e9c2755",
   "metadata": {},
   "outputs": [
    {
     "name": "stdout",
     "output_type": "stream",
     "text": [
      "0\n",
      "1\n",
      "2\n",
      "3\n",
      "4\n",
      "5\n",
      "6\n",
      "7\n",
      "8\n",
      "9\n"
     ]
    }
   ],
   "source": [
    "count = 0\n",
    "\n",
    "\n",
    "while count < 10:\n",
    "    print(count)\n",
    "    count += 1 # count = count + 1"
   ]
  },
  {
   "cell_type": "code",
   "execution_count": 64,
   "id": "3792cddc-1b7b-4c40-91e9-e37206eef3e5",
   "metadata": {},
   "outputs": [
    {
     "name": "stdout",
     "output_type": "stream",
     "text": [
      "0\n",
      "2\n",
      "4\n",
      "6\n",
      "8\n"
     ]
    }
   ],
   "source": [
    "for i in range(0,10,2):\n",
    "    print(i)"
   ]
  },
  {
   "cell_type": "code",
   "execution_count": 59,
   "id": "331755ba-47e6-4bd4-a78c-b0b0417bc403",
   "metadata": {},
   "outputs": [
    {
     "data": {
      "text/plain": [
       "[0, 1, 2, 3, 4, 5, 6, 7, 8, 9]"
      ]
     },
     "execution_count": 59,
     "metadata": {},
     "output_type": "execute_result"
    }
   ],
   "source": [
    "list(range(0,10))"
   ]
  },
  {
   "cell_type": "code",
   "execution_count": 61,
   "id": "4801bfe4-dd5f-4c2d-a314-96277d8beeeb",
   "metadata": {},
   "outputs": [
    {
     "name": "stdout",
     "output_type": "stream",
     "text": [
      "0\n",
      "1\n",
      "2\n",
      "3\n",
      "4\n",
      "5\n",
      "6\n",
      "7\n",
      "8\n",
      "9\n"
     ]
    }
   ],
   "source": [
    "for i in [0,1,2,3,4,5,6,7,8,9]:\n",
    "    print(i)"
   ]
  },
  {
   "cell_type": "code",
   "execution_count": 67,
   "id": "fec9740b-ef76-4514-8f01-e360741c9bfa",
   "metadata": {},
   "outputs": [
    {
     "name": "stdout",
     "output_type": "stream",
     "text": [
      "짱구\n",
      "유리\n",
      "맹구\n",
      "훈이\n"
     ]
    }
   ],
   "source": [
    "for name in [\"짱구\",\"철수\",\"유리\",\"맹구\",\"훈이\"]:\n",
    "    if name ==\"철수\":\n",
    "        continue\n",
    "    print(name)"
   ]
  },
  {
   "cell_type": "code",
   "execution_count": 71,
   "id": "98335b62-740a-4223-bcdf-3f921c475754",
   "metadata": {},
   "outputs": [
    {
     "name": "stdout",
     "output_type": "stream",
     "text": [
      "0\n",
      "1\n"
     ]
    }
   ],
   "source": [
    "for i in range(0,5): # 0 1 2 3 4\n",
    "    if i == 2:\n",
    "        break\n",
    "    print(i)"
   ]
  },
  {
   "cell_type": "code",
   "execution_count": 73,
   "id": "978c4bda-b63f-4190-8af7-6c24acfe95d0",
   "metadata": {},
   "outputs": [
    {
     "name": "stdout",
     "output_type": "stream",
     "text": [
      "i :  0\n",
      "j : 0\n",
      "j : 1\n",
      "j : 2\n",
      "j : 3\n",
      "j : 4\n",
      "i :  1\n",
      "j : 0\n",
      "j : 1\n",
      "j : 2\n",
      "j : 3\n",
      "j : 4\n",
      "i :  2\n",
      "j : 0\n",
      "j : 1\n",
      "j : 2\n",
      "j : 3\n",
      "j : 4\n",
      "i :  3\n",
      "j : 0\n",
      "j : 1\n",
      "j : 2\n",
      "j : 3\n",
      "j : 4\n",
      "i :  4\n",
      "j : 0\n",
      "j : 1\n",
      "j : 2\n",
      "j : 3\n",
      "j : 4\n"
     ]
    }
   ],
   "source": [
    "for i in range(0,5): # 0 1 2 3 4\n",
    "    print(\"i : \",i)\n",
    "    for j in range(0,5):# 0 1 2 3 4\n",
    "        print(\"j :\",j)"
   ]
  },
  {
   "cell_type": "code",
   "execution_count": null,
   "id": "f639899d-0c77-430c-b85d-8141509644fc",
   "metadata": {},
   "outputs": [],
   "source": [
    "1<= n <=5\n",
    "string=str\n",
    "if i in range"
   ]
  },
  {
   "cell_type": "code",
   "execution_count": 75,
   "id": "81857785-c351-477b-b3f3-87da50453c1f",
   "metadata": {},
   "outputs": [
    {
     "name": "stdin",
     "output_type": "stream",
     "text": [
      " ㅇㅇㅇ\n"
     ]
    },
    {
     "data": {
      "text/plain": [
       "'ㅇㅇㅇ'"
      ]
     },
     "execution_count": 75,
     "metadata": {},
     "output_type": "execute_result"
    }
   ],
   "source": [
    "input()"
   ]
  },
  {
   "cell_type": "code",
   "execution_count": 76,
   "id": "744e0ad1-49fc-46d7-97c8-cd97ec27f4b6",
   "metadata": {},
   "outputs": [
    {
     "name": "stdin",
     "output_type": "stream",
     "text": [
      " 이시환\n"
     ]
    }
   ],
   "source": [
    "name = input()"
   ]
  },
  {
   "cell_type": "code",
   "execution_count": 77,
   "id": "b602871a-6bd9-41c0-812b-66de90143bc8",
   "metadata": {},
   "outputs": [
    {
     "data": {
      "text/plain": [
       "'이시환'"
      ]
     },
     "execution_count": 77,
     "metadata": {},
     "output_type": "execute_result"
    }
   ],
   "source": [
    "name"
   ]
  },
  {
   "cell_type": "code",
   "execution_count": 79,
   "id": "98054fad-ef4b-4840-b56e-7554da995bc7",
   "metadata": {},
   "outputs": [
    {
     "name": "stdin",
     "output_type": "stream",
     "text": [
      "사과는 몇 개? 2\n"
     ]
    }
   ],
   "source": [
    "apple = input(\"사과는 몇 개?\")"
   ]
  },
  {
   "cell_type": "code",
   "execution_count": 80,
   "id": "83e9e56a-0f70-4382-aebf-b04774d5fefb",
   "metadata": {},
   "outputs": [
    {
     "data": {
      "text/plain": [
       "'2'"
      ]
     },
     "execution_count": 80,
     "metadata": {},
     "output_type": "execute_result"
    }
   ],
   "source": [
    "apple"
   ]
  },
  {
   "cell_type": "code",
   "execution_count": 82,
   "id": "24b3355b-84c7-49c9-b2fb-1dca54c0a6c1",
   "metadata": {},
   "outputs": [
    {
     "name": "stdin",
     "output_type": "stream",
     "text": [
      "바나나는 몇 개? 3\n"
     ]
    }
   ],
   "source": [
    "banana = input(\"바나나는 몇 개?\")"
   ]
  },
  {
   "cell_type": "code",
   "execution_count": 83,
   "id": "935d2c51-8b5f-421d-8932-e464baa8d7f0",
   "metadata": {},
   "outputs": [],
   "source": [
    "sum = apple + banana"
   ]
  },
  {
   "cell_type": "code",
   "execution_count": 84,
   "id": "ea5d80bb-c0a9-49c5-ae6f-681218e1500d",
   "metadata": {},
   "outputs": [
    {
     "data": {
      "text/plain": [
       "'23'"
      ]
     },
     "execution_count": 84,
     "metadata": {},
     "output_type": "execute_result"
    }
   ],
   "source": [
    "sum"
   ]
  },
  {
   "cell_type": "code",
   "execution_count": 85,
   "id": "44230731-b789-4115-9c1f-0724c169c059",
   "metadata": {},
   "outputs": [],
   "source": [
    "sum = int(apple) + int(banana)"
   ]
  },
  {
   "cell_type": "code",
   "execution_count": 86,
   "id": "a94012dc-196c-4361-ac5e-03eb4ec78383",
   "metadata": {},
   "outputs": [
    {
     "data": {
      "text/plain": [
       "5"
      ]
     },
     "execution_count": 86,
     "metadata": {},
     "output_type": "execute_result"
    }
   ],
   "source": [
    "sum"
   ]
  },
  {
   "cell_type": "code",
   "execution_count": 87,
   "id": "96219e6e-1f6d-4327-b95c-9c6495c7bd51",
   "metadata": {},
   "outputs": [
    {
     "name": "stdout",
     "output_type": "stream",
     "text": [
      "pen pineapple apple pen\n"
     ]
    }
   ],
   "source": [
    "print(\"pen pineapple apple pen\")"
   ]
  },
  {
   "cell_type": "code",
   "execution_count": 88,
   "id": "8fb1c237-0da9-49a1-a3e6-c2f1ed7216f4",
   "metadata": {},
   "outputs": [
    {
     "name": "stdout",
     "output_type": "stream",
     "text": [
      "penpineappleapplepen\n"
     ]
    }
   ],
   "source": [
    "print (\"pen\"\"pineapple\"\"apple\"\"pen\")"
   ]
  },
  {
   "cell_type": "code",
   "execution_count": 89,
   "id": "39725bc7-24b2-402b-9628-0232e69358bb",
   "metadata": {},
   "outputs": [
    {
     "name": "stdout",
     "output_type": "stream",
     "text": [
      "pen pineapple apple pen\n"
     ]
    }
   ],
   "source": [
    "print (\"pen\",\"pineapple\",\"apple\",\"pen\")"
   ]
  },
  {
   "cell_type": "code",
   "execution_count": 90,
   "id": "124a0ef3-ce44-42aa-9337-1294016290af",
   "metadata": {},
   "outputs": [
    {
     "name": "stdout",
     "output_type": "stream",
     "text": [
      "pen 5\n"
     ]
    }
   ],
   "source": [
    "print(\"pen\",5)"
   ]
  },
  {
   "cell_type": "code",
   "execution_count": 91,
   "id": "40064b37-564d-40a2-ae93-33d218d1e681",
   "metadata": {},
   "outputs": [
    {
     "name": "stdout",
     "output_type": "stream",
     "text": [
      "penpineappleapplepen\n"
     ]
    }
   ],
   "source": [
    "print(\"pen\"+\"pineapple\"+\"apple\"+\"pen\")"
   ]
  },
  {
   "cell_type": "code",
   "execution_count": 92,
   "id": "909fe03a-048c-4ae8-a9b5-1c4e8387992b",
   "metadata": {},
   "outputs": [
    {
     "ename": "TypeError",
     "evalue": "can only concatenate str (not \"int\") to str",
     "output_type": "error",
     "traceback": [
      "\u001b[1;31m---------------------------------------------------------------------------\u001b[0m",
      "\u001b[1;31mTypeError\u001b[0m                                 Traceback (most recent call last)",
      "Cell \u001b[1;32mIn[92], line 1\u001b[0m\n\u001b[1;32m----> 1\u001b[0m \u001b[38;5;28mprint\u001b[39m(\u001b[38;5;124m\"\u001b[39m\u001b[38;5;124mpen\u001b[39m\u001b[38;5;124m\"\u001b[39m\u001b[38;5;241m+\u001b[39m\u001b[38;5;241m5\u001b[39m)\n",
      "\u001b[1;31mTypeError\u001b[0m: can only concatenate str (not \"int\") to str"
     ]
    }
   ],
   "source": [
    "print(\"pen\"+5) # Error"
   ]
  },
  {
   "cell_type": "code",
   "execution_count": 106,
   "id": "ba70520f-3f16-42d9-9578-647db4a3b9a1",
   "metadata": {},
   "outputs": [
    {
     "name": "stdout",
     "output_type": "stream",
     "text": [
      "pen\n",
      "pineapple\t"
     ]
    }
   ],
   "source": [
    "print(\"pen\",end='\\n') # Enter\n",
    "print(\"pineapple\",end='\\t') # Tab"
   ]
  },
  {
   "cell_type": "code",
   "execution_count": 2,
   "id": "240c1112-d005-4d61-8de9-6acf11858515",
   "metadata": {},
   "outputs": [],
   "source": [
    "def plus_one(a):\n",
    "    # 함수 내부 기능\n",
    "    result = a+ 1\n",
    "    #반환값(Output)\n",
    "    return result\n"
   ]
  },
  {
   "cell_type": "code",
   "execution_count": 3,
   "id": "1c06f2c9-e56a-4b08-b49f-ff584ab659c5",
   "metadata": {},
   "outputs": [
    {
     "data": {
      "text/plain": [
       "2"
      ]
     },
     "execution_count": 3,
     "metadata": {},
     "output_type": "execute_result"
    }
   ],
   "source": [
    "plus_one(1)"
   ]
  },
  {
   "cell_type": "code",
   "execution_count": 5,
   "id": "c1fd7abb-e364-4bd6-a4a8-eec398ad9310",
   "metadata": {},
   "outputs": [],
   "source": [
    "def shouting():\n",
    "    print(\"ah!!!!\")"
   ]
  },
  {
   "cell_type": "code",
   "execution_count": 7,
   "id": "9dd3be02-78a9-477a-a7e5-d9bcccfbe0bf",
   "metadata": {},
   "outputs": [
    {
     "name": "stdout",
     "output_type": "stream",
     "text": [
      "ah!!!!\n"
     ]
    }
   ],
   "source": [
    "shouting()"
   ]
  },
  {
   "cell_type": "code",
   "execution_count": 13,
   "id": "a9036562-e36e-4411-a0b8-2c8a1d2a1c85",
   "metadata": {},
   "outputs": [],
   "source": [
    "def count_fruit_1(fruit:str,number:int):\n",
    "    print(\"과일\",fruit+\"는\",number,\"개 입니다.\")"
   ]
  },
  {
   "cell_type": "code",
   "execution_count": 14,
   "id": "1ddecb4c-8a8c-4df9-85b5-451663557bce",
   "metadata": {},
   "outputs": [
    {
     "name": "stdout",
     "output_type": "stream",
     "text": [
      "과일 오렌지는 6 개 입니다.\n"
     ]
    }
   ],
   "source": [
    "count_fruit(\"오렌지\",6)"
   ]
  },
  {
   "cell_type": "code",
   "execution_count": 16,
   "id": "b321a849-a6bf-42b0-b333-558f38635fa4",
   "metadata": {},
   "outputs": [],
   "source": [
    "def count_fruit_2(fruit=\"사과\",number=1):\n",
    "    print(\"과일\",fruit+\"는\",number,\"개 입니다.\")"
   ]
  },
  {
   "cell_type": "code",
   "execution_count": 17,
   "id": "ca5d1182-7efc-49fd-b05b-2c9ee50e897b",
   "metadata": {},
   "outputs": [
    {
     "name": "stdout",
     "output_type": "stream",
     "text": [
      "과일 사과는 1 개 입니다.\n"
     ]
    }
   ],
   "source": [
    "count_fruit_2()"
   ]
  },
  {
   "cell_type": "code",
   "execution_count": 18,
   "id": "6aaa2b67-bf9a-4cb2-8f3e-4763d1e42e2a",
   "metadata": {},
   "outputs": [
    {
     "name": "stdout",
     "output_type": "stream",
     "text": [
      "과일 수박는 3 개 입니다.\n"
     ]
    }
   ],
   "source": [
    "count_fruit_2(\"수박\",3)"
   ]
  },
  {
   "cell_type": "code",
   "execution_count": 23,
   "id": "d38965ba-b905-4d79-8358-38568367c35f",
   "metadata": {},
   "outputs": [],
   "source": [
    "def count_fruit_3(fruit:str=\"사과\",number:int=1):\n",
    "    print(\"과일\",fruit+\"는\",number,\"개 입니다.\")"
   ]
  },
  {
   "cell_type": "code",
   "execution_count": 24,
   "id": "0b088295-cefe-445a-a033-83630c9d6160",
   "metadata": {},
   "outputs": [
    {
     "name": "stdout",
     "output_type": "stream",
     "text": [
      "과일 사과는 1 개 입니다.\n"
     ]
    }
   ],
   "source": [
    "count_fruit_3()"
   ]
  },
  {
   "cell_type": "code",
   "execution_count": 26,
   "id": "689c97b6-3c12-4899-ae95-6948d6ce3c6b",
   "metadata": {},
   "outputs": [
    {
     "name": "stdout",
     "output_type": "stream",
     "text": [
      "Hello world\n",
      "Hello world\n"
     ]
    }
   ],
   "source": [
    "print(\"Hello world\", end='\\n') # , end='\\n' 는 Default\n",
    "print(\"Hello world\")"
   ]
  },
  {
   "cell_type": "code",
   "execution_count": 27,
   "id": "4c2dc297-5876-4386-8539-4614547a3027",
   "metadata": {},
   "outputs": [],
   "source": [
    "def summation(a,b):\n",
    "    return a+b"
   ]
  },
  {
   "cell_type": "code",
   "execution_count": 28,
   "id": "fc56603e-fb93-45e9-9313-8a20fc1568d5",
   "metadata": {},
   "outputs": [
    {
     "data": {
      "text/plain": [
       "3"
      ]
     },
     "execution_count": 28,
     "metadata": {},
     "output_type": "execute_result"
    }
   ],
   "source": [
    "summation(1,2)"
   ]
  },
  {
   "cell_type": "code",
   "execution_count": 31,
   "id": "6c761433-b28a-4e97-9df8-34abc829c2b6",
   "metadata": {},
   "outputs": [],
   "source": [
    "def summation(a,b):\n",
    "    c = a + b\n",
    "    return c"
   ]
  },
  {
   "cell_type": "code",
   "execution_count": 33,
   "id": "8437ab45-9509-45fe-8298-cda99a5feb71",
   "metadata": {},
   "outputs": [
    {
     "data": {
      "text/plain": [
       "3"
      ]
     },
     "execution_count": 33,
     "metadata": {},
     "output_type": "execute_result"
    }
   ],
   "source": [
    "summation(1,2)"
   ]
  },
  {
   "cell_type": "code",
   "execution_count": 44,
   "id": "d6947787-0339-4784-912d-ff6f0de60352",
   "metadata": {},
   "outputs": [],
   "source": [
    "a = 1\n",
    "\n",
    "\n",
    "def function_1(b):\n",
    "    c = a * b\n",
    "    return c\n"
   ]
  },
  {
   "cell_type": "code",
   "execution_count": 45,
   "id": "745add2a-fa4d-40ad-b180-ef40f68d6a3a",
   "metadata": {},
   "outputs": [
    {
     "data": {
      "text/plain": [
       "4"
      ]
     },
     "execution_count": 45,
     "metadata": {},
     "output_type": "execute_result"
    }
   ],
   "source": [
    " function_1(4)"
   ]
  }
 ],
 "metadata": {
  "kernelspec": {
   "display_name": "Python [conda env:base] *",
   "language": "python",
   "name": "conda-base-py"
  },
  "language_info": {
   "codemirror_mode": {
    "name": "ipython",
    "version": 3
   },
   "file_extension": ".py",
   "mimetype": "text/x-python",
   "name": "python",
   "nbconvert_exporter": "python",
   "pygments_lexer": "ipython3",
   "version": "3.12.7"
  }
 },
 "nbformat": 4,
 "nbformat_minor": 5
}
