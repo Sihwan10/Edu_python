{
 "cells": [
  {
   "cell_type": "code",
   "execution_count": 19,
   "id": "25434ae3-d09c-4906-925e-ada2461e167b",
   "metadata": {},
   "outputs": [
    {
     "name": "stdout",
     "output_type": "stream",
     "text": [
      "Hello World\n"
     ]
    }
   ],
   "source": [
    "print(\"Hello World\")"
   ]
  },
  {
   "cell_type": "code",
   "execution_count": 22,
   "id": "aa78e395-904c-417d-aff1-4e281fa4703f",
   "metadata": {},
   "outputs": [
    {
     "name": "stdout",
     "output_type": "stream",
     "text": [
      "1\n",
      "10\n"
     ]
    }
   ],
   "source": [
    "a=1\n",
    "print(a)\n",
    "a=10\n",
    "print(a)"
   ]
  },
  {
   "cell_type": "code",
   "execution_count": 24,
   "id": "60106cb9-174a-478c-92f1-73156fda4450",
   "metadata": {},
   "outputs": [
    {
     "name": "stdout",
     "output_type": "stream",
     "text": [
      "2 1\n"
     ]
    }
   ],
   "source": [
    "a=1 # a = 1 , b = None\n",
    "b=a # a = 1 , b = 1\n",
    "a=2 # a = 2 , b = 1\n",
    "print(a,b)"
   ]
  },
  {
   "cell_type": "code",
   "execution_count": 35,
   "id": "28731911-31a5-458a-967c-3b0f38acf786",
   "metadata": {},
   "outputs": [],
   "source": [
    "a=1\n",
    "b=1.2\n",
    "c=\"Sihwan\"\n",
    "d=True\n",
    "e=None"
   ]
  },
  {
   "cell_type": "code",
   "execution_count": 36,
   "id": "20fa10cd-5ae2-4471-8715-a7d06b6cfe2b",
   "metadata": {},
   "outputs": [
    {
     "data": {
      "text/plain": [
       "int"
      ]
     },
     "execution_count": 36,
     "metadata": {},
     "output_type": "execute_result"
    }
   ],
   "source": [
    "type(a)"
   ]
  },
  {
   "cell_type": "code",
   "execution_count": 37,
   "id": "707ca6e6-213b-49d1-b190-1d7065abfb47",
   "metadata": {},
   "outputs": [
    {
     "data": {
      "text/plain": [
       "float"
      ]
     },
     "execution_count": 37,
     "metadata": {},
     "output_type": "execute_result"
    }
   ],
   "source": [
    "type(b)"
   ]
  },
  {
   "cell_type": "code",
   "execution_count": 38,
   "id": "c4558976-b99f-4123-b549-71902b80cf05",
   "metadata": {},
   "outputs": [
    {
     "data": {
      "text/plain": [
       "str"
      ]
     },
     "execution_count": 38,
     "metadata": {},
     "output_type": "execute_result"
    }
   ],
   "source": [
    "type(c)"
   ]
  },
  {
   "cell_type": "code",
   "execution_count": 49,
   "id": "ea3d14b9-1c2b-4542-9d93-7e9121240439",
   "metadata": {},
   "outputs": [
    {
     "data": {
      "text/plain": [
       "int"
      ]
     },
     "execution_count": 49,
     "metadata": {},
     "output_type": "execute_result"
    }
   ],
   "source": [
    "type(d)"
   ]
  },
  {
   "cell_type": "code",
   "execution_count": 56,
   "id": "7729aa89-b2d3-466f-95fa-c82d7a5bdad9",
   "metadata": {},
   "outputs": [
    {
     "data": {
      "text/plain": [
       "NoneType"
      ]
     },
     "execution_count": 56,
     "metadata": {},
     "output_type": "execute_result"
    }
   ],
   "source": [
    "type(e)"
   ]
  },
  {
   "cell_type": "code",
   "execution_count": 46,
   "id": "0d3c9229-6c55-4658-89da-a9251ebc4c4d",
   "metadata": {},
   "outputs": [],
   "source": [
    "a=1\n",
    "b=\"1\"\n",
    "c=str(a)\n",
    "d=int(b)"
   ]
  },
  {
   "cell_type": "code",
   "execution_count": 57,
   "id": "70f3bd85-e6de-4252-bc70-9f0cb8b983f7",
   "metadata": {},
   "outputs": [],
   "source": [
    "a=[1,2,3,4,5]"
   ]
  },
  {
   "cell_type": "code",
   "execution_count": 58,
   "id": "ac9a2a7c-d093-4d26-bd92-6f8eb1e47680",
   "metadata": {},
   "outputs": [
    {
     "name": "stdout",
     "output_type": "stream",
     "text": [
      "[1, 2, 3, 4, 5]\n"
     ]
    }
   ],
   "source": [
    "print(a)"
   ]
  },
  {
   "cell_type": "code",
   "execution_count": 60,
   "id": "d13c3813-425c-41ad-9379-f1b817fb1e5c",
   "metadata": {},
   "outputs": [],
   "source": [
    "students = [[1,\"짱구\"],[2,\"철수\"],[3,\"맹구\"],[4,\"유리\"],[5,\"훈이\"]]"
   ]
  },
  {
   "cell_type": "code",
   "execution_count": 87,
   "id": "e2c62632-4132-4db6-b3cc-69ea598dfb74",
   "metadata": {},
   "outputs": [],
   "source": [
    "students[4][1]=\"수지\""
   ]
  },
  {
   "cell_type": "code",
   "execution_count": 88,
   "id": "75ce80b9-7089-4471-9a2a-6117e4903d8b",
   "metadata": {},
   "outputs": [
    {
     "name": "stdout",
     "output_type": "stream",
     "text": [
      "수지\n"
     ]
    }
   ],
   "source": [
    "print(students[-1][1])"
   ]
  },
  {
   "cell_type": "code",
   "execution_count": 108,
   "id": "b2dd1d16-212e-42e9-9ee3-4de043400777",
   "metadata": {},
   "outputs": [
    {
     "data": {
      "text/plain": [
       "[[2, '철수'], [3, '맹구']]"
      ]
     },
     "execution_count": 108,
     "metadata": {},
     "output_type": "execute_result"
    }
   ],
   "source": [
    "students[1:3]"
   ]
  },
  {
   "cell_type": "code",
   "execution_count": 162,
   "id": "39396d40-e274-44eb-bc07-ac5ba2e581cc",
   "metadata": {},
   "outputs": [],
   "source": [
    "a=[1,2,3,4,5]"
   ]
  },
  {
   "cell_type": "code",
   "execution_count": 111,
   "id": "77115c90-7a55-4797-9dbc-40ba06225c88",
   "metadata": {},
   "outputs": [
    {
     "data": {
      "text/plain": [
       "15"
      ]
     },
     "execution_count": 111,
     "metadata": {},
     "output_type": "execute_result"
    }
   ],
   "source": [
    "sum(a)"
   ]
  },
  {
   "cell_type": "code",
   "execution_count": 113,
   "id": "a0e01ecd-568f-4c6f-995b-ab69b8c4b392",
   "metadata": {},
   "outputs": [
    {
     "data": {
      "text/plain": [
       "1"
      ]
     },
     "execution_count": 113,
     "metadata": {},
     "output_type": "execute_result"
    }
   ],
   "source": [
    "min(a)"
   ]
  },
  {
   "cell_type": "code",
   "execution_count": 115,
   "id": "f4b4ca6a-5f1c-4640-aecf-0630ad853332",
   "metadata": {},
   "outputs": [
    {
     "data": {
      "text/plain": [
       "5"
      ]
     },
     "execution_count": 115,
     "metadata": {},
     "output_type": "execute_result"
    }
   ],
   "source": [
    "max(a)"
   ]
  },
  {
   "cell_type": "code",
   "execution_count": 120,
   "id": "1f63126e-c57c-42f7-b34b-94296cd346ab",
   "metadata": {},
   "outputs": [
    {
     "data": {
      "text/plain": [
       "5"
      ]
     },
     "execution_count": 120,
     "metadata": {},
     "output_type": "execute_result"
    }
   ],
   "source": [
    "len(a)"
   ]
  },
  {
   "cell_type": "code",
   "execution_count": 124,
   "id": "0f29e2f8-59fd-4d39-9f0c-77c5634b361e",
   "metadata": {},
   "outputs": [
    {
     "data": {
      "text/plain": [
       "[1, 2, 3, 4, 5, 6, 7]"
      ]
     },
     "execution_count": 124,
     "metadata": {},
     "output_type": "execute_result"
    }
   ],
   "source": [
    "b=a+[6,7]\n",
    "b"
   ]
  },
  {
   "cell_type": "code",
   "execution_count": 129,
   "id": "90f58107-5e60-490a-a500-86ae67c3551e",
   "metadata": {},
   "outputs": [
    {
     "data": {
      "text/plain": [
       "3.0"
      ]
     },
     "execution_count": 129,
     "metadata": {},
     "output_type": "execute_result"
    }
   ],
   "source": [
    "avg=sum(a)/len(a)\n",
    "avg"
   ]
  },
  {
   "cell_type": "code",
   "execution_count": 156,
   "id": "20fad350-c27c-4ca6-8664-7cea111825b8",
   "metadata": {
    "scrolled": true
   },
   "outputs": [
    {
     "data": {
      "text/plain": [
       "3.0"
      ]
     },
     "execution_count": 156,
     "metadata": {},
     "output_type": "execute_result"
    }
   ],
   "source": [
    "import numpy\n",
    "numpy.mean(a)"
   ]
  },
  {
   "cell_type": "code",
   "execution_count": 163,
   "id": "2549a20b-dba7-4fe5-95fc-929f6083b0ab",
   "metadata": {},
   "outputs": [
    {
     "data": {
      "text/plain": [
       "[1, 2, 3, 4, 5, 6]"
      ]
     },
     "execution_count": 163,
     "metadata": {},
     "output_type": "execute_result"
    }
   ],
   "source": [
    "a.append(6)\n",
    "a"
   ]
  },
  {
   "cell_type": "code",
   "execution_count": 164,
   "id": "68ef648c-7ffb-49fa-8036-3e8f435a63d2",
   "metadata": {},
   "outputs": [
    {
     "data": {
      "text/plain": [
       "[1, 2, 3, 5, 6]"
      ]
     },
     "execution_count": 164,
     "metadata": {},
     "output_type": "execute_result"
    }
   ],
   "source": [
    "del a[3]\n",
    "a"
   ]
  },
  {
   "cell_type": "code",
   "execution_count": 166,
   "id": "e1cc343b-f68c-4198-b739-dd4179185b4f",
   "metadata": {},
   "outputs": [
    {
     "data": {
      "text/plain": [
       "[3, 5, 6]"
      ]
     },
     "execution_count": 166,
     "metadata": {},
     "output_type": "execute_result"
    }
   ],
   "source": [
    "b=a.pop(0)\n",
    "a"
   ]
  },
  {
   "cell_type": "code",
   "execution_count": 167,
   "id": "d8232c1d-5707-4f3b-85ea-6647e6a73311",
   "metadata": {},
   "outputs": [
    {
     "data": {
      "text/plain": [
       "[1, 3, 5, 6]"
      ]
     },
     "execution_count": 167,
     "metadata": {},
     "output_type": "execute_result"
    }
   ],
   "source": [
    "a.insert(0,1)\n",
    "a"
   ]
  },
  {
   "cell_type": "code",
   "execution_count": 168,
   "id": "e1a4865b-51c4-475a-8e18-8a08d956e16b",
   "metadata": {},
   "outputs": [],
   "source": [
    "a.insert(1,2)"
   ]
  },
  {
   "cell_type": "code",
   "execution_count": 169,
   "id": "6d16b3ce-e074-4abb-bf6d-3a1a78edfd55",
   "metadata": {},
   "outputs": [],
   "source": [
    "a.insert(3,4)"
   ]
  },
  {
   "cell_type": "code",
   "execution_count": 170,
   "id": "f87fe9db-1b46-46e1-b068-ffed41da96a7",
   "metadata": {},
   "outputs": [
    {
     "data": {
      "text/plain": [
       "[1, 2, 3, 4, 5, 6]"
      ]
     },
     "execution_count": 170,
     "metadata": {},
     "output_type": "execute_result"
    }
   ],
   "source": [
    "a"
   ]
  },
  {
   "cell_type": "code",
   "execution_count": 172,
   "id": "6a972a55-d379-49f9-bc8f-29268fdc9922",
   "metadata": {},
   "outputs": [
    {
     "data": {
      "text/plain": [
       "[]"
      ]
     },
     "execution_count": 172,
     "metadata": {},
     "output_type": "execute_result"
    }
   ],
   "source": [
    "a.clear()\n",
    "a"
   ]
  },
  {
   "cell_type": "code",
   "execution_count": 183,
   "id": "1a2c7b74-c934-4464-98bd-539bb125b452",
   "metadata": {},
   "outputs": [
    {
     "data": {
      "text/plain": [
       "[1, 2, 3, 4, 5]"
      ]
     },
     "execution_count": 183,
     "metadata": {},
     "output_type": "execute_result"
    }
   ],
   "source": [
    "a=[1,2,3,4,5]\n",
    "a"
   ]
  },
  {
   "cell_type": "code",
   "execution_count": 184,
   "id": "a35a462e-3b0b-441b-ac01-f39db6d6f079",
   "metadata": {},
   "outputs": [
    {
     "data": {
      "text/plain": [
       "[1, 2, 3, 5]"
      ]
     },
     "execution_count": 184,
     "metadata": {},
     "output_type": "execute_result"
    }
   ],
   "source": [
    "a.remove(4)\n",
    "a"
   ]
  },
  {
   "cell_type": "code",
   "execution_count": 185,
   "id": "0a039984-1a31-449e-bca6-77bcc4038465",
   "metadata": {},
   "outputs": [],
   "source": [
    "D=a.clear()"
   ]
  },
  {
   "cell_type": "code",
   "execution_count": 186,
   "id": "c4d4f392-8f1c-4615-9dc6-87c50be09a50",
   "metadata": {},
   "outputs": [
    {
     "data": {
      "text/plain": [
       "[]"
      ]
     },
     "execution_count": 186,
     "metadata": {},
     "output_type": "execute_result"
    }
   ],
   "source": [
    "a"
   ]
  },
  {
   "cell_type": "code",
   "execution_count": 192,
   "id": "c8f61c09-30dd-4c43-9635-30b1a94d7dc8",
   "metadata": {},
   "outputs": [
    {
     "data": {
      "text/plain": [
       "[1, 2, 3, 4, 5]"
      ]
     },
     "execution_count": 192,
     "metadata": {},
     "output_type": "execute_result"
    }
   ],
   "source": [
    "a"
   ]
  },
  {
   "cell_type": "code",
   "execution_count": 193,
   "id": "5ec0bdd8-e20b-4d60-ad25-75871950e517",
   "metadata": {},
   "outputs": [
    {
     "data": {
      "text/plain": [
       "{1, 2, 3, 4, 5}"
      ]
     },
     "execution_count": 193,
     "metadata": {},
     "output_type": "execute_result"
    }
   ],
   "source": [
    "a={1,3,2,4,5}\n",
    "a"
   ]
  },
  {
   "cell_type": "code",
   "execution_count": 195,
   "id": "fac95ac1-a9be-4ee8-b109-3582555a2df7",
   "metadata": {},
   "outputs": [
    {
     "data": {
      "text/plain": [
       "{'가', '나', '다', '라', '마'}"
      ]
     },
     "execution_count": 195,
     "metadata": {},
     "output_type": "execute_result"
    }
   ],
   "source": [
    "a={\"가\",\"다\",\"라\",\"나\",\"마\"}\n",
    "a"
   ]
  },
  {
   "cell_type": "code",
   "execution_count": 196,
   "id": "71e19900-182f-42bf-a148-c46efbf61ab9",
   "metadata": {},
   "outputs": [],
   "source": [
    "a=[1,2,3,4,5]"
   ]
  },
  {
   "cell_type": "code",
   "execution_count": 198,
   "id": "35a03a43-9c31-4b40-b6c4-0126380b5fc4",
   "metadata": {},
   "outputs": [],
   "source": [
    "students = {\\\n",
    "    \"id\" : [1,2,3],\\\n",
    "    \"name\" : [\"짱수\",\"철수\",\"유리\"],\\\n",
    "    \"favorite\" : [\"액션가면\", \"모에피\", \"토끼\"]\\\n",
    "    }"
   ]
  },
  {
   "cell_type": "code",
   "execution_count": 199,
   "id": "281fbfac-5794-4503-9d44-a1470d6a6142",
   "metadata": {},
   "outputs": [
    {
     "data": {
      "text/plain": [
       "{'id': [1, 2, 3],\n",
       " 'name': ['짱수', '철수', '유리'],\n",
       " 'favorite': ['액션가면', '모에피', '토끼']}"
      ]
     },
     "execution_count": 199,
     "metadata": {},
     "output_type": "execute_result"
    }
   ],
   "source": [
    "students"
   ]
  },
  {
   "cell_type": "code",
   "execution_count": 200,
   "id": "cf124968-707a-47fc-8a6f-64cad6068de9",
   "metadata": {},
   "outputs": [
    {
     "data": {
      "text/plain": [
       "[1, 2, 3]"
      ]
     },
     "execution_count": 200,
     "metadata": {},
     "output_type": "execute_result"
    }
   ],
   "source": [
    "students[\"id\"]"
   ]
  },
  {
   "cell_type": "code",
   "execution_count": 201,
   "id": "07b1e63b-caee-4bf3-bed7-a65099083526",
   "metadata": {},
   "outputs": [
    {
     "data": {
      "text/plain": [
       "2"
      ]
     },
     "execution_count": 201,
     "metadata": {},
     "output_type": "execute_result"
    }
   ],
   "source": [
    "students[\"id\"][1]"
   ]
  },
  {
   "cell_type": "code",
   "execution_count": 203,
   "id": "b4239098-20eb-495e-b0b1-af3dcb93515d",
   "metadata": {},
   "outputs": [
    {
     "data": {
      "text/plain": [
       "dict_keys(['id', 'name', 'favorite'])"
      ]
     },
     "execution_count": 203,
     "metadata": {},
     "output_type": "execute_result"
    }
   ],
   "source": [
    "students.keys()"
   ]
  },
  {
   "cell_type": "code",
   "execution_count": 205,
   "id": "fdf649b7-e035-451c-924e-2bdefe1cf291",
   "metadata": {},
   "outputs": [
    {
     "data": {
      "text/plain": [
       "dict_values([[1, 2, 3], ['짱수', '철수', '유리'], ['액션가면', '모에피', '토끼']])"
      ]
     },
     "execution_count": 205,
     "metadata": {},
     "output_type": "execute_result"
    }
   ],
   "source": [
    "students.values()"
   ]
  },
  {
   "cell_type": "code",
   "execution_count": 206,
   "id": "b31d9bb9-cd58-4a56-8c61-034673ac7a50",
   "metadata": {},
   "outputs": [],
   "source": [
    "x=2\n",
    "y=5"
   ]
  },
  {
   "cell_type": "code",
   "execution_count": 207,
   "id": "37e6d074-b5bd-4973-9538-d81cc4146fad",
   "metadata": {},
   "outputs": [
    {
     "data": {
      "text/plain": [
       "7"
      ]
     },
     "execution_count": 207,
     "metadata": {},
     "output_type": "execute_result"
    }
   ],
   "source": [
    "x+y"
   ]
  },
  {
   "cell_type": "code",
   "execution_count": 208,
   "id": "6b5ef813-33fd-4ea6-85c0-df0ad12c590c",
   "metadata": {},
   "outputs": [
    {
     "data": {
      "text/plain": [
       "-3"
      ]
     },
     "execution_count": 208,
     "metadata": {},
     "output_type": "execute_result"
    }
   ],
   "source": [
    "x-y"
   ]
  },
  {
   "cell_type": "code",
   "execution_count": 209,
   "id": "908d5197-38e0-4687-9300-9e803108d5a3",
   "metadata": {},
   "outputs": [
    {
     "data": {
      "text/plain": [
       "10"
      ]
     },
     "execution_count": 209,
     "metadata": {},
     "output_type": "execute_result"
    }
   ],
   "source": [
    "x*y"
   ]
  },
  {
   "cell_type": "code",
   "execution_count": 210,
   "id": "ff3fd5e2-32c5-4afd-83a2-7d5fe74800bf",
   "metadata": {},
   "outputs": [
    {
     "data": {
      "text/plain": [
       "0.4"
      ]
     },
     "execution_count": 210,
     "metadata": {},
     "output_type": "execute_result"
    }
   ],
   "source": [
    "x/y #나눗셈을 할 경우 무조건 float로 바뀐다"
   ]
  },
  {
   "cell_type": "code",
   "execution_count": 211,
   "id": "e3252d7b-6158-4563-a070-adb32a8f550b",
   "metadata": {},
   "outputs": [
    {
     "data": {
      "text/plain": [
       "0"
      ]
     },
     "execution_count": 211,
     "metadata": {},
     "output_type": "execute_result"
    }
   ],
   "source": [
    "x//y"
   ]
  },
  {
   "cell_type": "code",
   "execution_count": 212,
   "id": "3c5e9b52-c49d-4778-a5c7-520c6726bc72",
   "metadata": {},
   "outputs": [
    {
     "data": {
      "text/plain": [
       "2"
      ]
     },
     "execution_count": 212,
     "metadata": {},
     "output_type": "execute_result"
    }
   ],
   "source": [
    "y//x"
   ]
  },
  {
   "cell_type": "code",
   "execution_count": 213,
   "id": "6a435142-6ee8-4f40-920b-08d2d3f9fc1d",
   "metadata": {},
   "outputs": [
    {
     "data": {
      "text/plain": [
       "1"
      ]
     },
     "execution_count": 213,
     "metadata": {},
     "output_type": "execute_result"
    }
   ],
   "source": [
    "y%x"
   ]
  },
  {
   "cell_type": "code",
   "execution_count": 214,
   "id": "dd57467d-fff0-4e27-8242-0c440fcd0ddd",
   "metadata": {},
   "outputs": [
    {
     "data": {
      "text/plain": [
       "32"
      ]
     },
     "execution_count": 214,
     "metadata": {},
     "output_type": "execute_result"
    }
   ],
   "source": [
    "x**y"
   ]
  },
  {
   "cell_type": "code",
   "execution_count": 215,
   "id": "3239a711-be1d-4e08-8c30-6a6929e88645",
   "metadata": {},
   "outputs": [
    {
     "data": {
      "text/plain": [
       "4"
      ]
     },
     "execution_count": 215,
     "metadata": {},
     "output_type": "execute_result"
    }
   ],
   "source": [
    "2**2"
   ]
  },
  {
   "cell_type": "code",
   "execution_count": 227,
   "id": "7e0ee957-2c01-463d-ac8e-563675142f87",
   "metadata": {},
   "outputs": [],
   "source": [
    "a=\"Python\"\n",
    "b=\"Programming\""
   ]
  },
  {
   "cell_type": "code",
   "execution_count": 228,
   "id": "1991ff4d-7de2-45d2-8a01-2609be90b0f4",
   "metadata": {},
   "outputs": [
    {
     "data": {
      "text/plain": [
       "'PythonProgramming'"
      ]
     },
     "execution_count": 228,
     "metadata": {},
     "output_type": "execute_result"
    }
   ],
   "source": [
    "a+b"
   ]
  },
  {
   "cell_type": "code",
   "execution_count": 230,
   "id": "f4fd56ea-4745-4c59-8b93-d8f196ec34f7",
   "metadata": {},
   "outputs": [
    {
     "data": {
      "text/plain": [
       "'Python Programming'"
      ]
     },
     "execution_count": 230,
     "metadata": {},
     "output_type": "execute_result"
    }
   ],
   "source": [
    "a+ \" \" +b"
   ]
  },
  {
   "cell_type": "code",
   "execution_count": 236,
   "id": "71f9864c-6025-4168-8eb3-66c23eed08a9",
   "metadata": {},
   "outputs": [
    {
     "data": {
      "text/plain": [
       "'sususu'"
      ]
     },
     "execution_count": 236,
     "metadata": {},
     "output_type": "execute_result"
    }
   ],
   "source": [
    "a=\"su\"\n",
    "a*3"
   ]
  },
  {
   "cell_type": "code",
   "execution_count": 237,
   "id": "0588a677-cab5-422f-b8fb-135ce370b08a",
   "metadata": {},
   "outputs": [
    {
     "name": "stdout",
     "output_type": "stream",
     "text": [
      "susususupernova\n"
     ]
    }
   ],
   "source": [
    "print(a*3+\"supernova\")"
   ]
  },
  {
   "cell_type": "code",
   "execution_count": 260,
   "id": "f59bfa5f-8d26-4076-9b81-f564905f3783",
   "metadata": {},
   "outputs": [
    {
     "data": {
      "text/plain": [
       "0"
      ]
     },
     "execution_count": 260,
     "metadata": {},
     "output_type": "execute_result"
    }
   ],
   "source": [
    "count=0\n",
    "count"
   ]
  },
  {
   "cell_type": "code",
   "execution_count": 261,
   "id": "6194ea65-b5fd-4de1-bc6a-b3ba1a39b04e",
   "metadata": {},
   "outputs": [
    {
     "data": {
      "text/plain": [
       "1"
      ]
     },
     "execution_count": 261,
     "metadata": {},
     "output_type": "execute_result"
    }
   ],
   "source": [
    "count +=1\n",
    "count"
   ]
  },
  {
   "cell_type": "code",
   "execution_count": 262,
   "id": "bfdf0644-47fb-41ba-b5c3-7c1ff52684e0",
   "metadata": {},
   "outputs": [
    {
     "data": {
      "text/plain": [
       "2"
      ]
     },
     "execution_count": 262,
     "metadata": {},
     "output_type": "execute_result"
    }
   ],
   "source": [
    "count=count + 1\n",
    "count"
   ]
  }
 ],
 "metadata": {
  "kernelspec": {
   "display_name": "Python [conda env:base] *",
   "language": "python",
   "name": "conda-base-py"
  },
  "language_info": {
   "codemirror_mode": {
    "name": "ipython",
    "version": 3
   },
   "file_extension": ".py",
   "mimetype": "text/x-python",
   "name": "python",
   "nbconvert_exporter": "python",
   "pygments_lexer": "ipython3",
   "version": "3.12.7"
  }
 },
 "nbformat": 4,
 "nbformat_minor": 5
}
