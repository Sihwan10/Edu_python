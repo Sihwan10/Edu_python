{
 "cells": [
  {
   "cell_type": "code",
   "execution_count": 4,
   "id": "a6880d60-5740-477b-8afe-d8a86e7c0bdd",
   "metadata": {},
   "outputs": [],
   "source": [
    "import pandas as pd"
   ]
  },
  {
   "cell_type": "code",
   "execution_count": 14,
   "id": "cd21c9d2-2975-4175-8b09-4c2ffcaaa298",
   "metadata": {},
   "outputs": [
    {
     "name": "stdout",
     "output_type": "stream",
     "text": [
      "                      식품코드         식품명 데이터구분코드 데이터구분명  식품기원코드  \\\n",
      "0      D101-004160000-0001     국밥_돼지머리       D     음식       1   \n",
      "1      D101-004310000-0001     국밥_순대국밥       D     음식       1   \n",
      "2      D101-004500000-0001      국밥_콩나물       D     음식       1   \n",
      "3      D101-006000000-0001         기장밥       D     음식       1   \n",
      "4      D101-007000000-0001          김밥       D     음식       1   \n",
      "...                    ...         ...     ...    ...     ...   \n",
      "14579  D720-756000000-0001   딸기바나나 스무디       D     음식       7   \n",
      "14580  D720-757000000-0001  미숫가루(선식)음료       D     음식       7   \n",
      "14581  D720-758000000-0001        수박화채       D     음식       7   \n",
      "14582  D720-761000000-0001         율무차       D     음식       7   \n",
      "14583  D724-757000000-0001        감자범벅       D     음식       7   \n",
      "\n",
      "                     식품기원명  식품대분류코드     식품대분류명  대표식품코드       대표식품명  ...  \\\n",
      "0               가정식(분석 함량)        1         밥류    1004          국밥  ...   \n",
      "1               가정식(분석 함량)        1         밥류    1004          국밥  ...   \n",
      "2               가정식(분석 함량)        1         밥류    1004          국밥  ...   \n",
      "3               가정식(분석 함량)        1         밥류    1006         기장밥  ...   \n",
      "4               가정식(분석 함량)        1         밥류    1007          김밥  ...   \n",
      "...                    ...      ...        ...     ...         ...  ...   \n",
      "14579  산업체급식(재료량 기반 산출 함량)       20    음료 및 차류   20756   딸기바나나 스무디  ...   \n",
      "14580  산업체급식(재료량 기반 산출 함량)       20    음료 및 차류   20757  미숫가루(선식)음료  ...   \n",
      "14581  산업체급식(재료량 기반 산출 함량)       20    음료 및 차류   20758        수박화채  ...   \n",
      "14582  산업체급식(재료량 기반 산출 함량)       20    음료 및 차류   20761         율무차  ...   \n",
      "14583  산업체급식(재료량 기반 산출 함량)       24  곡류, 서류 제품   24757        감자범벅  ...   \n",
      "\n",
      "       토코페롤(mg) 토코트리에놀(mg)  출처코드       출처명     식품중량   업체명 데이터생성방법코드  데이터생성방법명  \\\n",
      "0          0.30       0.04     3  식품의약품안전처     900g  해당없음         1        분석   \n",
      "1          0.33       0.06     3  식품의약품안전처     900g  해당없음         1        분석   \n",
      "2          0.33       0.04     3  식품의약품안전처     780g  해당없음         1        분석   \n",
      "3          0.22       0.21     3  식품의약품안전처     200g  해당없음         1        분석   \n",
      "4          0.98       0.09     3  식품의약품안전처     230g  해당없음         1        분석   \n",
      "...         ...        ...   ...       ...      ...   ...       ...       ...   \n",
      "14579       NaN        NaN     3  식품의약품안전처    355ml  해당없음         3        산출   \n",
      "14580       NaN        NaN     3  식품의약품안전처    100ml  해당없음         3        산출   \n",
      "14581       NaN        NaN     3  식품의약품안전처    200ml  해당없음         3        산출   \n",
      "14582       NaN        NaN     3  식품의약품안전처    100ml  해당없음         3        산출   \n",
      "14583       NaN        NaN     3  식품의약품안전처  112.3ml  해당없음         3        산출   \n",
      "\n",
      "         데이터생성일자    데이터기준일자  \n",
      "0     2017-12-31 2025-04-08  \n",
      "1     2017-12-31 2025-04-08  \n",
      "2     2018-12-31 2025-04-08  \n",
      "3     2017-12-31 2025-04-08  \n",
      "4     2018-12-31 2025-04-08  \n",
      "...          ...        ...  \n",
      "14579 2024-01-31 2025-04-08  \n",
      "14580 2024-01-31 2025-04-08  \n",
      "14581 2024-01-31 2025-04-08  \n",
      "14582 2024-01-31 2025-04-08  \n",
      "14583 2024-01-31 2025-04-08  \n",
      "\n",
      "[14584 rows x 159 columns]\n"
     ]
    }
   ],
   "source": [
    "df = pd.read_excel('20250408_음식DB.xlsx', engine ='openpyxl')\n",
    "#print(df)"
   ]
  },
  {
   "cell_type": "code",
   "execution_count": 9,
   "id": "ddf52887-4b11-42c8-b911-5408d53a65c5",
   "metadata": {},
   "outputs": [
    {
     "name": "stdout",
     "output_type": "stream",
     "text": [
      "<class 'pandas.core.frame.DataFrame'>\n",
      "RangeIndex: 14584 entries, 0 to 14583\n",
      "Columns: 159 entries, 식품코드 to 데이터기준일자\n",
      "dtypes: datetime64[ns](2), float64(129), int64(9), object(19)\n",
      "memory usage: 17.7+ MB\n"
     ]
    }
   ],
   "source": [
    "df.info()"
   ]
  },
  {
   "cell_type": "code",
   "execution_count": 10,
   "id": "6dd8b026-d19e-452e-9d8f-536541ce1e04",
   "metadata": {},
   "outputs": [
    {
     "data": {
      "text/html": [
       "<div>\n",
       "<style scoped>\n",
       "    .dataframe tbody tr th:only-of-type {\n",
       "        vertical-align: middle;\n",
       "    }\n",
       "\n",
       "    .dataframe tbody tr th {\n",
       "        vertical-align: top;\n",
       "    }\n",
       "\n",
       "    .dataframe thead th {\n",
       "        text-align: right;\n",
       "    }\n",
       "</style>\n",
       "<table border=\"1\" class=\"dataframe\">\n",
       "  <thead>\n",
       "    <tr style=\"text-align: right;\">\n",
       "      <th></th>\n",
       "      <th>식품코드</th>\n",
       "      <th>식품명</th>\n",
       "      <th>데이터구분코드</th>\n",
       "      <th>데이터구분명</th>\n",
       "      <th>식품기원코드</th>\n",
       "      <th>식품기원명</th>\n",
       "      <th>식품대분류코드</th>\n",
       "      <th>식품대분류명</th>\n",
       "      <th>대표식품코드</th>\n",
       "      <th>대표식품명</th>\n",
       "      <th>...</th>\n",
       "      <th>토코페롤(mg)</th>\n",
       "      <th>토코트리에놀(mg)</th>\n",
       "      <th>출처코드</th>\n",
       "      <th>출처명</th>\n",
       "      <th>식품중량</th>\n",
       "      <th>업체명</th>\n",
       "      <th>데이터생성방법코드</th>\n",
       "      <th>데이터생성방법명</th>\n",
       "      <th>데이터생성일자</th>\n",
       "      <th>데이터기준일자</th>\n",
       "    </tr>\n",
       "  </thead>\n",
       "  <tbody>\n",
       "    <tr>\n",
       "      <th>0</th>\n",
       "      <td>D101-004160000-0001</td>\n",
       "      <td>국밥_돼지머리</td>\n",
       "      <td>D</td>\n",
       "      <td>음식</td>\n",
       "      <td>1</td>\n",
       "      <td>가정식(분석 함량)</td>\n",
       "      <td>1</td>\n",
       "      <td>밥류</td>\n",
       "      <td>1004</td>\n",
       "      <td>국밥</td>\n",
       "      <td>...</td>\n",
       "      <td>0.30</td>\n",
       "      <td>0.04</td>\n",
       "      <td>3</td>\n",
       "      <td>식품의약품안전처</td>\n",
       "      <td>900g</td>\n",
       "      <td>해당없음</td>\n",
       "      <td>1</td>\n",
       "      <td>분석</td>\n",
       "      <td>2017-12-31</td>\n",
       "      <td>2025-04-08</td>\n",
       "    </tr>\n",
       "    <tr>\n",
       "      <th>1</th>\n",
       "      <td>D101-004310000-0001</td>\n",
       "      <td>국밥_순대국밥</td>\n",
       "      <td>D</td>\n",
       "      <td>음식</td>\n",
       "      <td>1</td>\n",
       "      <td>가정식(분석 함량)</td>\n",
       "      <td>1</td>\n",
       "      <td>밥류</td>\n",
       "      <td>1004</td>\n",
       "      <td>국밥</td>\n",
       "      <td>...</td>\n",
       "      <td>0.33</td>\n",
       "      <td>0.06</td>\n",
       "      <td>3</td>\n",
       "      <td>식품의약품안전처</td>\n",
       "      <td>900g</td>\n",
       "      <td>해당없음</td>\n",
       "      <td>1</td>\n",
       "      <td>분석</td>\n",
       "      <td>2017-12-31</td>\n",
       "      <td>2025-04-08</td>\n",
       "    </tr>\n",
       "    <tr>\n",
       "      <th>2</th>\n",
       "      <td>D101-004500000-0001</td>\n",
       "      <td>국밥_콩나물</td>\n",
       "      <td>D</td>\n",
       "      <td>음식</td>\n",
       "      <td>1</td>\n",
       "      <td>가정식(분석 함량)</td>\n",
       "      <td>1</td>\n",
       "      <td>밥류</td>\n",
       "      <td>1004</td>\n",
       "      <td>국밥</td>\n",
       "      <td>...</td>\n",
       "      <td>0.33</td>\n",
       "      <td>0.04</td>\n",
       "      <td>3</td>\n",
       "      <td>식품의약품안전처</td>\n",
       "      <td>780g</td>\n",
       "      <td>해당없음</td>\n",
       "      <td>1</td>\n",
       "      <td>분석</td>\n",
       "      <td>2018-12-31</td>\n",
       "      <td>2025-04-08</td>\n",
       "    </tr>\n",
       "  </tbody>\n",
       "</table>\n",
       "<p>3 rows × 159 columns</p>\n",
       "</div>"
      ],
      "text/plain": [
       "                  식품코드      식품명 데이터구분코드 데이터구분명  식품기원코드       식품기원명  식품대분류코드  \\\n",
       "0  D101-004160000-0001  국밥_돼지머리       D     음식       1  가정식(분석 함량)        1   \n",
       "1  D101-004310000-0001  국밥_순대국밥       D     음식       1  가정식(분석 함량)        1   \n",
       "2  D101-004500000-0001   국밥_콩나물       D     음식       1  가정식(분석 함량)        1   \n",
       "\n",
       "  식품대분류명  대표식품코드 대표식품명  ...  토코페롤(mg) 토코트리에놀(mg)  출처코드       출처명  식품중량   업체명  \\\n",
       "0     밥류    1004    국밥  ...      0.30       0.04     3  식품의약품안전처  900g  해당없음   \n",
       "1     밥류    1004    국밥  ...      0.33       0.06     3  식품의약품안전처  900g  해당없음   \n",
       "2     밥류    1004    국밥  ...      0.33       0.04     3  식품의약품안전처  780g  해당없음   \n",
       "\n",
       "  데이터생성방법코드  데이터생성방법명    데이터생성일자    데이터기준일자  \n",
       "0         1        분석 2017-12-31 2025-04-08  \n",
       "1         1        분석 2017-12-31 2025-04-08  \n",
       "2         1        분석 2018-12-31 2025-04-08  \n",
       "\n",
       "[3 rows x 159 columns]"
      ]
     },
     "execution_count": 10,
     "metadata": {},
     "output_type": "execute_result"
    }
   ],
   "source": [
    "df.head(3)"
   ]
  },
  {
   "cell_type": "code",
   "execution_count": 22,
   "id": "280dbd4d-9531-4eb6-a663-b30cf7617409",
   "metadata": {},
   "outputs": [
    {
     "name": "stdin",
     "output_type": "stream",
     "text": [
      "식품명을 입력하세요 :  국밥\n",
      "g을 입력하세요 :  200\n"
     ]
    },
    {
     "name": "stdout",
     "output_type": "stream",
     "text": [
      "국밥_돼지머리 137 274.0\n",
      "국밥_순대국밥 75 150.0\n",
      "국밥_콩나물 52 104.0\n",
      "국밥 52 104.0\n",
      "국밥_굴 105 210.0\n",
      "국밥_돼지고기 76 152.0\n",
      "국밥_소고기 47 94.0\n",
      "콩나물 국밥 60 120.0\n",
      "콩나물 국밥 59 118.0\n",
      "굴 국밥 63 126.0\n",
      "돼지머리국밥 72 144.0\n",
      "소고기 국밥 66 132.0\n",
      "소고기 국밥_내장 104 208.0\n",
      "콩나물 국밥 60 120.0\n",
      "돼지머리국밥 68 136.0\n",
      "소고기 국밥_내장 62 124.0\n"
     ]
    }
   ],
   "source": [
    "# 열량 구하기\n",
    "# 음식의 열량을 출력하고\n",
    "# 1. DB 등록 음식 중 상위 몇 % 에 해당하는 음식인지 출력하기\n",
    "# 2. 100g 당 열량. >>> g 입력하면 열량 계산해서 알려주기\n",
    "input_food = input(\"식품명을 입력하세요 : \")\n",
    "input_weight = input(\"g을 입력하세요 : \")\n",
    "search_info = df[df[\"식품명\"].str.contains(input_food)][[\"식품명\",\"에너지(kcal)\"]]\n",
    "    \n",
    "for i in range(len(search_info)):\n",
    "    final_kcal = int(search_info.iloc[i][\"에너지(kcal)\"]) / 100 * int(input_weight)\n",
    "    print(search_info.iloc[i][\"식품명\"],search_info.iloc[i][\"에너지(kcal)\"], final_kcal)"
   ]
  },
  {
   "cell_type": "code",
   "execution_count": 25,
   "id": "aa301f33-1c6a-46f8-b8b6-8ed1dd35188e",
   "metadata": {},
   "outputs": [
    {
     "name": "stdin",
     "output_type": "stream",
     "text": [
      "정보를 알고싶은 음식명을 입력하세요 :  국밥\n"
     ]
    },
    {
     "name": "stdout",
     "output_type": "stream",
     "text": [
      "index: 0\n",
      "식품명: 국밥_돼지머리\n",
      "---\n",
      "index: 1\n",
      "식품명: 국밥_순대국밥\n",
      "---\n",
      "index: 2\n",
      "식품명: 국밥_콩나물\n",
      "---\n",
      "index: 3\n",
      "식품명: 국밥\n",
      "---\n",
      "index: 4\n",
      "식품명: 국밥_굴\n",
      "---\n",
      "index: 5\n",
      "식품명: 국밥_돼지고기\n",
      "---\n",
      "index: 6\n",
      "식품명: 국밥_소고기\n",
      "---\n",
      "index: 7\n",
      "식품명: 콩나물 국밥\n",
      "---\n",
      "index: 8\n",
      "식품명: 콩나물 국밥\n",
      "---\n",
      "index: 9\n",
      "식품명: 굴 국밥\n",
      "---\n",
      "index: 10\n",
      "식품명: 돼지머리국밥\n",
      "---\n",
      "index: 11\n",
      "식품명: 소고기 국밥\n",
      "---\n",
      "index: 12\n",
      "식품명: 소고기 국밥_내장\n",
      "---\n",
      "index: 13\n",
      "식품명: 콩나물 국밥\n",
      "---\n",
      "index: 14\n",
      "식품명: 돼지머리국밥\n",
      "---\n",
      "index: 15\n",
      "식품명: 소고기 국밥_내장\n",
      "---\n"
     ]
    },
    {
     "name": "stdin",
     "output_type": "stream",
     "text": [
      "선택 할 식품의 index를 입력하세요 :  2\n",
      "선택 할 식품의 g 수를 입력하세요 :  1000\n"
     ]
    },
    {
     "name": "stdout",
     "output_type": "stream",
     "text": [
      "검색한 음식의 100g당 열량은 52 kcal 이며,\n",
      "입력하신  1000 g 의 총 열량은 520.0 kcal 입니다.\n"
     ]
    }
   ],
   "source": [
    "input_food = input(\"정보를 알고싶은 음식명을 입력하세요 : \")\n",
    "\n",
    "search_info = df[df['식품명'].str.contains(input_food)][['식품명', '에너지(kcal)']]\n",
    "\n",
    "for i in range(len(search_info)):\n",
    "    #print(\"index:\", search_info.index[i])\n",
    "    print(\"index:\", i)\n",
    "    print(\"식품명:\", search_info.iloc[i]['식품명'])\n",
    "    # print(\"에너지(kcal):\", search_info.iloc[i]['에너지(kcal)'])\n",
    "    print(\"---\")\n",
    "\n",
    "input_index = input(\"선택 할 식품의 index를 입력하세요 : \")\n",
    "result_kcal = search_info.iloc[int(input_index)]['에너지(kcal)']\n",
    "input_weight = input(\"선택 할 식품의 g 수를 입력하세요 : \")\n",
    "final_kcal = int(result_kcal)*int(input_weight)/100\n",
    "print(\"검색한 음식의 100g당 열량은\",result_kcal,\"kcal 이며,\")\n",
    "print(\"입력하신 \",input_weight,\"g 의 총 열량은\",final_kcal,\"kcal 입니다.\")"
   ]
  },
  {
   "cell_type": "code",
   "execution_count": 49,
   "id": "4775375f-efb6-49c9-a79a-c87fe2a9ec0f",
   "metadata": {},
   "outputs": [
    {
     "name": "stdin",
     "output_type": "stream",
     "text": [
      "정보를 알고싶은 음식명을 입력하세요 :  국밥\n"
     ]
    },
    {
     "name": "stdout",
     "output_type": "stream",
     "text": [
      "index: 0\n",
      "식품명: 국밥_돼지머리\n",
      "---\n",
      "index: 1\n",
      "식품명: 국밥_순대국밥\n",
      "---\n",
      "index: 2\n",
      "식품명: 국밥_콩나물\n",
      "---\n",
      "index: 3\n",
      "식품명: 국밥\n",
      "---\n",
      "index: 4\n",
      "식품명: 국밥_굴\n",
      "---\n",
      "index: 5\n",
      "식품명: 국밥_돼지고기\n",
      "---\n",
      "index: 6\n",
      "식품명: 국밥_소고기\n",
      "---\n",
      "index: 7\n",
      "식품명: 콩나물 국밥\n",
      "---\n",
      "index: 8\n",
      "식품명: 콩나물 국밥\n",
      "---\n",
      "index: 9\n",
      "식품명: 굴 국밥\n",
      "---\n",
      "index: 10\n",
      "식품명: 돼지머리국밥\n",
      "---\n",
      "index: 11\n",
      "식품명: 소고기 국밥\n",
      "---\n",
      "index: 12\n",
      "식품명: 소고기 국밥_내장\n",
      "---\n",
      "index: 13\n",
      "식품명: 콩나물 국밥\n",
      "---\n",
      "index: 14\n",
      "식품명: 돼지머리국밥\n",
      "---\n",
      "index: 15\n",
      "식품명: 소고기 국밥_내장\n",
      "---\n"
     ]
    },
    {
     "name": "stdin",
     "output_type": "stream",
     "text": [
      "선택 할 식품의 index를 입력하세요 :  2\n"
     ]
    },
    {
     "name": "stdout",
     "output_type": "stream",
     "text": [
      "2\n"
     ]
    }
   ],
   "source": [
    "# 선택한 음식의 칼로리가 상위 몇 %에 해당하는 열량일까?\n",
    "input_food = input(\"정보를 알고싶은 음식명을 입력하세요 : \")\n",
    "\n",
    "search_info = df[df['식품명'].str.contains(input_food)][['식품명', '에너지(kcal)']]\n",
    "\n",
    "for i in range(len(search_info)):\n",
    "    #print(\"index:\", search_info.index[i])\n",
    "    print(\"index:\", i)\n",
    "    print(\"식품명:\", search_info.iloc[i]['식품명'])\n",
    "    # print(\"에너지(kcal):\", search_info.iloc[i]['에너지(kcal)'])\n",
    "    print(\"---\")\n",
    "\n",
    "input_index = input(\"선택 할 식품의 index를 입력하세요 : \")\n",
    "result_kcal = search_info.iloc[int(input_index)]['에너지(kcal)']\n",
    "\n",
    "result = search_info.iloc[int(input_index)]\n",
    "\n",
    "print(result.name)"
   ]
  },
  {
   "cell_type": "code",
   "execution_count": 48,
   "id": "0ef90123-35d7-4aa2-9022-644d4e2aef47",
   "metadata": {},
   "outputs": [
    {
     "name": "stdout",
     "output_type": "stream",
     "text": [
      "3102\n"
     ]
    }
   ],
   "source": [
    "df_sorted = df.sort_values(\"에너지(kcal)\")\n",
    "df_sorted[[\"식품명\",\"에너지(kcal)\"]]\n",
    "\n",
    "cnt = 0\n",
    "\n",
    "for i in range(len(df_sorted)):\n",
    "    #print(df_sorted.iloc[i].name)\n",
    "    #print(df_sorted.iloc[i]['식품명'])\n",
    "    #print(df_sorted.iloc[i]['에너지(kcal)'])\\\n",
    "    if result.name == df_sorted.iloc[i].name:\n",
    "        break\n",
    "    cnt += 1\n",
    "print(cnt)\n",
    "# 14584개의 데이터"
   ]
  },
  {
   "cell_type": "code",
   "execution_count": 51,
   "id": "97fae1c0-18f0-4ad1-9b75-98d83c2847a8",
   "metadata": {},
   "outputs": [],
   "source": [
    "\n",
    "from selenium import webdriver\n",
    "from selenium.webdriver.chrome.service import Service\n",
    "from selenium.webdriver.common.by import By\n",
    "from selenium.webdriver.common.keys import Keys\n",
    "from webdriver_manager.chrome import ChromeDriverManager\n",
    "from bs4 import BeautifulSoup\n",
    "import time"
   ]
  },
  {
   "cell_type": "code",
   "execution_count": 78,
   "id": "75f255df-05b0-46d6-9310-58744bf15a88",
   "metadata": {},
   "outputs": [],
   "source": [
    "driver = webdriver.Chrome(service=Service(ChromeDriverManager().install()))\n",
    "driver.implicitly_wait(10)"
   ]
  },
  {
   "cell_type": "code",
   "execution_count": 79,
   "id": "7ea3ffb0-4bda-4d2c-980f-6949c24e6b3d",
   "metadata": {},
   "outputs": [],
   "source": [
    "driver.get(\"https://www.naver.com\")"
   ]
  },
  {
   "cell_type": "code",
   "execution_count": 80,
   "id": "41e511a8-7229-4b90-9b78-4af2d0d87026",
   "metadata": {},
   "outputs": [],
   "source": [
    "search_box = driver.find_element(By.CSS_SELECTOR, \"input#query.search_input\")"
   ]
  },
  {
   "cell_type": "code",
   "execution_count": 81,
   "id": "570ed6c8-13d1-4c23-a8e5-a94ecd394fc8",
   "metadata": {},
   "outputs": [],
   "source": [
    "search_box.send_keys(\"디지털\")"
   ]
  },
  {
   "cell_type": "code",
   "execution_count": 95,
   "id": "7f7bf4fe-3b8e-4150-bcd0-4c96669e2b0e",
   "metadata": {
    "scrolled": true
   },
   "outputs": [],
   "source": [
    "search_box.send_keys(Keys.ENTER)"
   ]
  },
  {
   "cell_type": "code",
   "execution_count": 96,
   "id": "594c3771-4f24-46b8-be63-dced5036f73e",
   "metadata": {},
   "outputs": [],
   "source": [
    "news_tab = driver.find_element(By.LINK_TEXT,\"뉴스\")\n",
    "news_tab.click()\n",
    "time.sleep(2)"
   ]
  },
  {
   "cell_type": "code",
   "execution_count": 97,
   "id": "b0a000c5-1362-4632-bcc0-6d56e0dc00e7",
   "metadata": {},
   "outputs": [],
   "source": [
    "html = driver.page_source\n",
    "soup = BeautifulSoup(html,\"lxml\")"
   ]
  },
  {
   "cell_type": "code",
   "execution_count": null,
   "id": "37982f0d-d626-4c2e-940d-cff9d86aab03",
   "metadata": {},
   "outputs": [],
   "source": [
    "# <span class=\"sds-comps-text sds-comps-text-ellipsis sds-comps-text-ellipsis-1 sds-comps-text-type-headline1\">챗GPT '에이전트' 기능 써보니 \"절반의 성공... 노력은 가상하네\"</span>"
   ]
  },
  {
   "cell_type": "code",
   "execution_count": 98,
   "id": "b5e9b5e8-2bdb-4d15-8a8a-3416f854e51c",
   "metadata": {},
   "outputs": [
    {
     "name": "stdout",
     "output_type": "stream",
     "text": [
      "대통령실 \"대미 협상품목에 농수산물·디지털포함…내일 추가협상\"\n",
      "차봇, 케이씨모터스 '노블클라쎄'디지털판권 단독 확보\n",
      "임진강 전투 QR 및디지털프로젝트 공식 출범\n",
      "\"디지털자산 제도 마련 시급…건전한 투자환경 조성해야\"\n",
      "교보증권, 2025년 하반기 경영전략회의 개최\n",
      "부산디지털자산거래소, 누적 거래액 1조 2700억 돌파\n",
      "전기·디지털시대 ‘금속 쟁탈전’… 지속 가능한 소비책은\n",
      "제네시스, '소셜아이어워드 2025'디지털영상 최고대상 수상\n",
      "한성숙 \"기존 경쟁력 더 이상 보장 안된다…한국형 디스커버리 제도 도...\n",
      "NHN 와플랫, KT텔레캅과 AI 기반디지털돌봄 서비스 협력\n"
     ]
    }
   ],
   "source": [
    "title = soup.select(\"span.sds-comps-text-type-headline1\")\n",
    "for i in title:\n",
    "    print(i.get_text(strip=True))"
   ]
  },
  {
   "cell_type": "code",
   "execution_count": 99,
   "id": "e4681a6c-17c1-4d32-b26e-ee42971270ec",
   "metadata": {},
   "outputs": [
    {
     "data": {
      "text/plain": [
       "10"
      ]
     },
     "execution_count": 99,
     "metadata": {},
     "output_type": "execute_result"
    }
   ],
   "source": [
    "len(title)"
   ]
  },
  {
   "cell_type": "code",
   "execution_count": null,
   "id": "a1db6918-9123-468b-ab13-cb82b1d4912a",
   "metadata": {},
   "outputs": [],
   "source": []
  }
 ],
 "metadata": {
  "kernelspec": {
   "display_name": "Python [conda env:base] *",
   "language": "python",
   "name": "conda-base-py"
  },
  "language_info": {
   "codemirror_mode": {
    "name": "ipython",
    "version": 3
   },
   "file_extension": ".py",
   "mimetype": "text/x-python",
   "name": "python",
   "nbconvert_exporter": "python",
   "pygments_lexer": "ipython3",
   "version": "3.12.7"
  }
 },
 "nbformat": 4,
 "nbformat_minor": 5
}
