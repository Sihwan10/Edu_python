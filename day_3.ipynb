{
 "cells": [
  {
   "cell_type": "code",
   "execution_count": 1,
   "id": "d6baf892-11ff-406b-83c1-755861b863be",
   "metadata": {},
   "outputs": [],
   "source": [
    "#Day 3"
   ]
  },
  {
   "cell_type": "code",
   "execution_count": 83,
   "id": "77e06cd8-c647-4dbc-9b3d-08f3982e4bb3",
   "metadata": {},
   "outputs": [],
   "source": [
    "class Count:\n",
    "    def __init__(self):\n",
    "        self.num = 0\n",
    "    def increment(self):\n",
    "        self.num += 1\n",
    "        return self.num"
   ]
  },
  {
   "cell_type": "code",
   "execution_count": 84,
   "id": "9543d235-88ad-447c-aacc-ce66c673dbfb",
   "metadata": {},
   "outputs": [],
   "source": [
    "c = Count()"
   ]
  },
  {
   "cell_type": "code",
   "execution_count": 85,
   "id": "2b734af8-87e4-49cc-ac55-d12424ffc4cd",
   "metadata": {},
   "outputs": [
    {
     "data": {
      "text/plain": [
       "0"
      ]
     },
     "execution_count": 85,
     "metadata": {},
     "output_type": "execute_result"
    }
   ],
   "source": [
    "c.num"
   ]
  },
  {
   "cell_type": "code",
   "execution_count": 88,
   "id": "8bf1634d-adfc-49a1-8148-6f237d29a6a7",
   "metadata": {},
   "outputs": [
    {
     "data": {
      "text/plain": [
       "2"
      ]
     },
     "execution_count": 88,
     "metadata": {},
     "output_type": "execute_result"
    }
   ],
   "source": [
    "c.increment()"
   ]
  },
  {
   "cell_type": "code",
   "execution_count": 89,
   "id": "d5c7755e-c785-4e8e-97b6-55fbb796c12d",
   "metadata": {},
   "outputs": [
    {
     "data": {
      "text/plain": [
       "2"
      ]
     },
     "execution_count": 89,
     "metadata": {},
     "output_type": "execute_result"
    }
   ],
   "source": [
    "c.num"
   ]
  },
  {
   "cell_type": "code",
   "execution_count": 35,
   "id": "0468f364-a8d2-46a4-a255-c873633c7057",
   "metadata": {},
   "outputs": [],
   "source": [
    "d = Count()"
   ]
  },
  {
   "cell_type": "code",
   "execution_count": 36,
   "id": "4447096b-c19b-4378-b5f1-c3c06e6fab20",
   "metadata": {},
   "outputs": [
    {
     "data": {
      "text/plain": [
       "0"
      ]
     },
     "execution_count": 36,
     "metadata": {},
     "output_type": "execute_result"
    }
   ],
   "source": [
    "d.num"
   ]
  },
  {
   "cell_type": "code",
   "execution_count": 90,
   "id": "60d2b7c4-259d-4de8-aec8-9ddfcf149adb",
   "metadata": {},
   "outputs": [],
   "source": [
    "import os"
   ]
  },
  {
   "cell_type": "code",
   "execution_count": 91,
   "id": "439fbad2-8cf8-4f9a-ac27-6a07810dabbf",
   "metadata": {},
   "outputs": [
    {
     "data": {
      "text/plain": [
       "['.git',\n",
       " '.ipynb_checkpoints',\n",
       " 'ARGV',\n",
       " 'day_2.ipynb',\n",
       " 'day_3.ipynb',\n",
       " 'README.md',\n",
       " 'test.py',\n",
       " 'Untitled.ipynb']"
      ]
     },
     "execution_count": 91,
     "metadata": {},
     "output_type": "execute_result"
    }
   ],
   "source": [
    "os.listdir()"
   ]
  },
  {
   "cell_type": "code",
   "execution_count": 92,
   "id": "1f469417-bed9-46ca-9932-bf9b768a11ae",
   "metadata": {},
   "outputs": [],
   "source": [
    "import os"
   ]
  },
  {
   "cell_type": "code",
   "execution_count": 94,
   "id": "eb7f32fe-fa97-4e0d-9e3c-78d7a0723a58",
   "metadata": {},
   "outputs": [
    {
     "data": {
      "text/plain": [
       "['main.py', 'test.py', 'test.txt', '__pycache__']"
      ]
     },
     "execution_count": 94,
     "metadata": {},
     "output_type": "execute_result"
    }
   ],
   "source": [
    "os.listdir(\"0621\")"
   ]
  },
  {
   "cell_type": "code",
   "execution_count": 129,
   "id": "74e9e43a-25ac-46a4-ab3c-6919a682e680",
   "metadata": {},
   "outputs": [],
   "source": [
    "f = open(\"0621/test.txt\",\"r\") #r:파일 일기 W:파일 쓰기 a:내용 추가하기"
   ]
  },
  {
   "cell_type": "code",
   "execution_count": 130,
   "id": "64367eaa-4316-470d-a7f8-c691192fd288",
   "metadata": {},
   "outputs": [],
   "source": [
    "text = f.read()"
   ]
  },
  {
   "cell_type": "code",
   "execution_count": 131,
   "id": "7ff73b47-0238-41d8-80c7-c79e7cdee6d3",
   "metadata": {},
   "outputs": [
    {
     "name": "stdout",
     "output_type": "stream",
     "text": [
      "Hello World!\n"
     ]
    }
   ],
   "source": [
    "print(text)"
   ]
  },
  {
   "cell_type": "code",
   "execution_count": 133,
   "id": "5edd1739-7c36-4348-b216-2ed1bd8321d3",
   "metadata": {},
   "outputs": [],
   "source": [
    "f.close()"
   ]
  },
  {
   "cell_type": "code",
   "execution_count": 144,
   "id": "a45452d7-aeff-468a-a52e-43e38796c191",
   "metadata": {},
   "outputs": [],
   "source": [
    "f = open(\"0621/test.txt\",\"w\")"
   ]
  },
  {
   "cell_type": "code",
   "execution_count": 145,
   "id": "93ceffbd-48bd-47fa-bd4a-f6b5995f4abb",
   "metadata": {},
   "outputs": [],
   "source": [
    "f.write(\"My name is\")\n",
    "f.close()"
   ]
  },
  {
   "cell_type": "code",
   "execution_count": 146,
   "id": "77da1852-4c1a-4488-8216-467b672a3dac",
   "metadata": {},
   "outputs": [],
   "source": [
    "f= open(\"0621/test.txt\",\"a\")"
   ]
  },
  {
   "cell_type": "code",
   "execution_count": 147,
   "id": "fc3268c2-bed0-42d0-a320-29f6281dfa77",
   "metadata": {},
   "outputs": [],
   "source": [
    "f.write(\" Lee Shihwan\")\n",
    "f.close()"
   ]
  },
  {
   "cell_type": "code",
   "execution_count": 148,
   "id": "75ac5713-f482-449a-ada5-8158b4246f7a",
   "metadata": {},
   "outputs": [
    {
     "name": "stdout",
     "output_type": "stream",
     "text": [
      "id  menu    price\n",
      "1   pizza   10$\n",
      "2   chicken 15$\n",
      "3   hamburger   5$\n"
     ]
    }
   ],
   "source": [
    "f = open(\"0621/order.txt\",\"r\")\n",
    "data = f.read()\n",
    "print(data)"
   ]
  },
  {
   "cell_type": "code",
   "execution_count": 159,
   "id": "12b86023-e093-4a6d-8036-64539c0720c3",
   "metadata": {},
   "outputs": [
    {
     "name": "stdout",
     "output_type": "stream",
     "text": [
      "id  menu    price\n",
      "\n",
      "1   pizza   10$\n",
      "\n"
     ]
    }
   ],
   "source": [
    "f = open(\"0621/order.txt\",\"r\")\n",
    "line = f.readline()\n",
    "print(line)\n",
    "line = f.readline()\n",
    "print(line)"
   ]
  },
  {
   "cell_type": "code",
   "execution_count": 160,
   "id": "9388216d-231d-4aaf-b404-266896494d1a",
   "metadata": {},
   "outputs": [
    {
     "name": "stdout",
     "output_type": "stream",
     "text": [
      "['id  menu    price\\n', '1   pizza   10$\\n', '2   chicken 15$\\n', '3   hamburger   5$']\n"
     ]
    }
   ],
   "source": [
    "f = open(\"0621/order.txt\",\"r\")\n",
    "lines = f.readlines()\n",
    "print(lines)"
   ]
  },
  {
   "cell_type": "code",
   "execution_count": 161,
   "id": "501d21fd-fd99-4515-9f3c-3b9d379be294",
   "metadata": {},
   "outputs": [
    {
     "name": "stdout",
     "output_type": "stream",
     "text": [
      "id  menu    price\n",
      "\n",
      "['1   pizza   10$\\n', '2   chicken 15$\\n', '3   hamburger   5$']\n"
     ]
    }
   ],
   "source": [
    "f = open(\"0621/order.txt\",\"r\")\n",
    "lines = f.readlines()\n",
    "header = lines[0]\n",
    "contents = lines[1:]\n",
    "print(header)\n",
    "print(contents)"
   ]
  },
  {
   "cell_type": "code",
   "execution_count": 165,
   "id": "b2c25b88-7717-4908-ae29-554297992f6e",
   "metadata": {},
   "outputs": [
    {
     "data": {
      "text/plain": [
       "['id  menu    price\\n',\n",
       " '1   pizza   10$\\n',\n",
       " '2   chicken 15$\\n',\n",
       " '3   hamburger   5$']"
      ]
     },
     "execution_count": 165,
     "metadata": {},
     "output_type": "execute_result"
    }
   ],
   "source": [
    "with open(\"0621/order.txt\",\"r\") as f:\n",
    "    lines = f.readlines()\n",
    "\n",
    "lines"
   ]
  },
  {
   "cell_type": "code",
   "execution_count": 172,
   "id": "00556e0e-0a77-4f19-b326-5d1014751d62",
   "metadata": {},
   "outputs": [
    {
     "data": {
      "text/plain": [
       "11"
      ]
     },
     "execution_count": 172,
     "metadata": {},
     "output_type": "execute_result"
    }
   ],
   "source": [
    "#문자열 관련 함수\n",
    "a = \"Hello World\"\n",
    "\n",
    "len(a)"
   ]
  },
  {
   "cell_type": "code",
   "execution_count": 174,
   "id": "c32cd279-36ef-4f1c-9064-5f8eff070ad7",
   "metadata": {},
   "outputs": [
    {
     "data": {
      "text/plain": [
       "'Hello World'"
      ]
     },
     "execution_count": 174,
     "metadata": {},
     "output_type": "execute_result"
    }
   ],
   "source": [
    "a = \"      Hello World      \"\n",
    "\n",
    "a.strip()"
   ]
  },
  {
   "cell_type": "code",
   "execution_count": 175,
   "id": "89881c7b-78e8-49a6-ad11-40824dabef70",
   "metadata": {},
   "outputs": [
    {
     "data": {
      "text/plain": [
       "'Hello World      '"
      ]
     },
     "execution_count": 175,
     "metadata": {},
     "output_type": "execute_result"
    }
   ],
   "source": [
    "a = \"      Hello World      \"\n",
    "\n",
    "a.lstrip()"
   ]
  },
  {
   "cell_type": "code",
   "execution_count": 176,
   "id": "33c265b9-717f-470a-99d0-1d270366ffec",
   "metadata": {},
   "outputs": [
    {
     "data": {
      "text/plain": [
       "'      Hello World'"
      ]
     },
     "execution_count": 176,
     "metadata": {},
     "output_type": "execute_result"
    }
   ],
   "source": [
    "a = \"      Hello World      \"\n",
    "\n",
    "a.rstrip()"
   ]
  },
  {
   "cell_type": "code",
   "execution_count": 177,
   "id": "cbac448a-5775-467e-9769-b3eb518eadf2",
   "metadata": {},
   "outputs": [],
   "source": [
    "a = \"Hello World\""
   ]
  },
  {
   "cell_type": "code",
   "execution_count": 179,
   "id": "c49f731c-6b18-447e-b0fd-1a9156a0fa75",
   "metadata": {},
   "outputs": [
    {
     "data": {
      "text/plain": [
       "['Hell', ' W', 'rld']"
      ]
     },
     "execution_count": 179,
     "metadata": {},
     "output_type": "execute_result"
    }
   ],
   "source": [
    "a.split(\"o\")"
   ]
  },
  {
   "cell_type": "code",
   "execution_count": 181,
   "id": "031b2869-3440-42f4-8a08-0404d1f6cb8c",
   "metadata": {},
   "outputs": [
    {
     "data": {
      "text/plain": [
       "'Hi World'"
      ]
     },
     "execution_count": 181,
     "metadata": {},
     "output_type": "execute_result"
    }
   ],
   "source": [
    "a.replace(\"Hello\",\"Hi\")"
   ]
  },
  {
   "cell_type": "code",
   "execution_count": 182,
   "id": "ea362537-243d-40aa-8b3f-d371838cabcf",
   "metadata": {},
   "outputs": [
    {
     "data": {
      "text/plain": [
       "'HELLO WORLD'"
      ]
     },
     "execution_count": 182,
     "metadata": {},
     "output_type": "execute_result"
    }
   ],
   "source": [
    "a.upper()"
   ]
  },
  {
   "cell_type": "code",
   "execution_count": 184,
   "id": "430a750a-ccbd-4f7c-8ed2-f2ca2db5c1ee",
   "metadata": {},
   "outputs": [
    {
     "data": {
      "text/plain": [
       "'hello world'"
      ]
     },
     "execution_count": 184,
     "metadata": {},
     "output_type": "execute_result"
    }
   ],
   "source": [
    "a.lower()"
   ]
  },
  {
   "cell_type": "code",
   "execution_count": 185,
   "id": "80c59f26-071e-475e-a944-7aa412e8d929",
   "metadata": {},
   "outputs": [
    {
     "data": {
      "text/plain": [
       "True"
      ]
     },
     "execution_count": 185,
     "metadata": {},
     "output_type": "execute_result"
    }
   ],
   "source": [
    "a.startswith(\"Hello\")"
   ]
  },
  {
   "cell_type": "code",
   "execution_count": 186,
   "id": "ee04710a-817f-478f-a93b-95b2f61fe439",
   "metadata": {},
   "outputs": [
    {
     "data": {
      "text/plain": [
       "False"
      ]
     },
     "execution_count": 186,
     "metadata": {},
     "output_type": "execute_result"
    }
   ],
   "source": [
    "a.startswith(\"Hi\")"
   ]
  },
  {
   "cell_type": "code",
   "execution_count": 190,
   "id": "bfa55d86-5056-48b5-94d8-a58abcb98cb9",
   "metadata": {},
   "outputs": [
    {
     "data": {
      "text/plain": [
       "True"
      ]
     },
     "execution_count": 190,
     "metadata": {},
     "output_type": "execute_result"
    }
   ],
   "source": [
    "a.endswith(\"d\")"
   ]
  },
  {
   "cell_type": "code",
   "execution_count": 191,
   "id": "6029220a-7b7b-4cb1-8cb4-09ae437b3e98",
   "metadata": {},
   "outputs": [
    {
     "data": {
      "text/plain": [
       "4"
      ]
     },
     "execution_count": 191,
     "metadata": {},
     "output_type": "execute_result"
    }
   ],
   "source": [
    "a.find(\"o\")"
   ]
  },
  {
   "cell_type": "code",
   "execution_count": 192,
   "id": "e2e1b3c4-2b9e-4045-a943-2f2090f74d36",
   "metadata": {},
   "outputs": [
    {
     "data": {
      "text/plain": [
       "-1"
      ]
     },
     "execution_count": 192,
     "metadata": {},
     "output_type": "execute_result"
    }
   ],
   "source": [
    "a.find(\"z\")"
   ]
  },
  {
   "cell_type": "code",
   "execution_count": 200,
   "id": "62959d12-4641-4dd1-a482-865aebfbebe1",
   "metadata": {},
   "outputs": [
    {
     "name": "stdout",
     "output_type": "stream",
     "text": [
      "pizza\n"
     ]
    }
   ],
   "source": [
    "f = open(\"0621/order.txt\",\"r\")\n",
    "data = f.readlines()\n",
    "print(data[1].split()[1])\n"
   ]
  },
  {
   "cell_type": "code",
   "execution_count": 223,
   "id": "92896721-25c8-4294-bd7c-1e34374e989c",
   "metadata": {},
   "outputs": [
    {
     "name": "stdout",
     "output_type": "stream",
     "text": [
      "평균은 79.0 입니다.\n"
     ]
    }
   ],
   "source": [
    "f = open(\"0621/data.txt\",\"r\",encoding='utf-8')\n",
    "data = f.readlines()\n",
    "# print(data)\n",
    "\n",
    "# 평균 계산\n",
    "# data : 한 줄 한 줄 있는 리스트 \n",
    "total = 0\n",
    "for line in data:\n",
    "    # line : \"이름 점수\\n\"\n",
    "    # line.split() : [\"이름\",\"점수\"]\n",
    "    # line.split()[1] : 점수\n",
    "    score = line.split()[1]\n",
    "    if score == \"점수\":\n",
    "        continue\n",
    "    #print(score)\n",
    "    total += int(score)\n",
    "\n",
    "#print(total / (len(data)-1))\n",
    "avg = total / (len(data)-1)\n",
    "print(\"평균은\",avg,\"입니다.\")"
   ]
  },
  {
   "cell_type": "code",
   "execution_count": 226,
   "id": "8ae7ea21-4c75-4d3e-8d91-0d5185222c6c",
   "metadata": {},
   "outputs": [],
   "source": [
    "import time"
   ]
  },
  {
   "cell_type": "code",
   "execution_count": 237,
   "id": "86b28deb-10f6-4e3f-8420-b279bc04e979",
   "metadata": {},
   "outputs": [
    {
     "data": {
      "text/plain": [
       "1750484695.646184"
      ]
     },
     "execution_count": 237,
     "metadata": {},
     "output_type": "execute_result"
    }
   ],
   "source": [
    "# 1970.01.01 00:00\n",
    "time.time()"
   ]
  },
  {
   "cell_type": "code",
   "execution_count": 238,
   "id": "b7db3a26-649a-4806-aeea-b01ff0103d4f",
   "metadata": {},
   "outputs": [],
   "source": [
    "import datetime"
   ]
  },
  {
   "cell_type": "code",
   "execution_count": 239,
   "id": "fff5643e-cf69-4f74-a1dc-ab0a396a7e84",
   "metadata": {},
   "outputs": [
    {
     "data": {
      "text/plain": [
       "datetime.datetime(2025, 6, 21, 14, 46, 6, 255042)"
      ]
     },
     "execution_count": 239,
     "metadata": {},
     "output_type": "execute_result"
    }
   ],
   "source": [
    "datetime.datetime.now()"
   ]
  },
  {
   "cell_type": "code",
   "execution_count": 240,
   "id": "8120f2f6-e48f-45cb-a4b8-d4b83e4495d4",
   "metadata": {},
   "outputs": [],
   "source": [
    "import os"
   ]
  },
  {
   "cell_type": "code",
   "execution_count": 241,
   "id": "2dd21ad0-be9b-4c5f-9377-69542bd10954",
   "metadata": {},
   "outputs": [
    {
     "data": {
      "text/plain": [
       "'nt'"
      ]
     },
     "execution_count": 241,
     "metadata": {},
     "output_type": "execute_result"
    }
   ],
   "source": [
    "os.name"
   ]
  },
  {
   "cell_type": "code",
   "execution_count": 242,
   "id": "2d77efd6-ce94-465d-b07f-bd88a95529cf",
   "metadata": {},
   "outputs": [
    {
     "data": {
      "text/plain": [
       "'C:\\\\Users\\\\admin\\\\Desktop\\\\sh\\\\Edu_python'"
      ]
     },
     "execution_count": 242,
     "metadata": {},
     "output_type": "execute_result"
    }
   ],
   "source": [
    "os.getcwd()"
   ]
  },
  {
   "cell_type": "code",
   "execution_count": 255,
   "id": "7f220584-7a49-4021-95f4-405be7cc7afa",
   "metadata": {},
   "outputs": [
    {
     "data": {
      "text/plain": [
       "['data.txt', 'main.py', 'order.txt', 'test.py', 'test.txt', '__pycache__']"
      ]
     },
     "execution_count": 255,
     "metadata": {},
     "output_type": "execute_result"
    }
   ],
   "source": [
    "os.listdir(\"0621\")"
   ]
  },
  {
   "cell_type": "code",
   "execution_count": 249,
   "id": "61494250-5e18-4f37-bb0d-2e1e19d787fb",
   "metadata": {},
   "outputs": [
    {
     "data": {
      "text/plain": [
       "True"
      ]
     },
     "execution_count": 249,
     "metadata": {},
     "output_type": "execute_result"
    }
   ],
   "source": [
    "os.path.exists(\"0621\")"
   ]
  },
  {
   "cell_type": "code",
   "execution_count": 258,
   "id": "4855d62a-51d3-4f96-aedf-9789e0f94e7a",
   "metadata": {},
   "outputs": [
    {
     "ename": "FileNotFoundError",
     "evalue": "[WinError 2] 지정된 파일을 찾을 수 없습니다: 'test.txt'",
     "output_type": "error",
     "traceback": [
      "\u001b[1;31m---------------------------------------------------------------------------\u001b[0m",
      "\u001b[1;31mFileNotFoundError\u001b[0m                         Traceback (most recent call last)",
      "Cell \u001b[1;32mIn[258], line 1\u001b[0m\n\u001b[1;32m----> 1\u001b[0m os\u001b[38;5;241m.\u001b[39mremove(\u001b[38;5;124m\"\u001b[39m\u001b[38;5;124mtest.txt\u001b[39m\u001b[38;5;124m\"\u001b[39m)\n",
      "\u001b[1;31mFileNotFoundError\u001b[0m: [WinError 2] 지정된 파일을 찾을 수 없습니다: 'test.txt'"
     ]
    }
   ],
   "source": [
    "os.remove(\"test.txt\")#제거"
   ]
  },
  {
   "cell_type": "code",
   "execution_count": 260,
   "id": "1827bdf7-3c2d-4564-b77f-f2937164b867",
   "metadata": {},
   "outputs": [
    {
     "data": {
      "text/plain": [
       "0"
      ]
     },
     "execution_count": 260,
     "metadata": {},
     "output_type": "execute_result"
    }
   ],
   "source": [
    "os.system(\"echo Hello\")"
   ]
  },
  {
   "cell_type": "code",
   "execution_count": 335,
   "id": "bd4d09a5-251f-4a0d-8450-6f222739eaca",
   "metadata": {},
   "outputs": [
    {
     "data": {
      "text/plain": [
       "'win32'"
      ]
     },
     "execution_count": 335,
     "metadata": {},
     "output_type": "execute_result"
    }
   ],
   "source": [
    "import sys\n",
    "sys.platform"
   ]
  },
  {
   "cell_type": "code",
   "execution_count": 337,
   "id": "01d3a592-03a5-4dd2-8d84-f6659523a441",
   "metadata": {},
   "outputs": [],
   "source": [
    "import numpy as np"
   ]
  },
  {
   "cell_type": "code",
   "execution_count": 338,
   "id": "99301257-63e9-4736-b73f-1969feaee885",
   "metadata": {},
   "outputs": [],
   "source": [
    "# 1차원 배열\n",
    "a1 = np.array([1,2,3])\n",
    "\n",
    "# 2차원 배열\n",
    "a2 = np.array([[1,2,3],[4,5,6]])\n",
    "\n",
    "# 3차원 배열\n",
    "a3 = np.array([[[1,2],[3,4]],[[5,6],[7,8]]])"
   ]
  },
  {
   "cell_type": "code",
   "execution_count": 340,
   "id": "21771454-5294-4227-a139-87ace84a92bb",
   "metadata": {},
   "outputs": [
    {
     "name": "stdout",
     "output_type": "stream",
     "text": [
      "[1 2 3]\n",
      "[[1 2 3]\n",
      " [4 5 6]]\n",
      "[[[1 2]\n",
      "  [3 4]]\n",
      "\n",
      " [[5 6]\n",
      "  [7 8]]]\n"
     ]
    }
   ],
   "source": [
    "print(a1)\n",
    "print(a2)\n",
    "print(a3)"
   ]
  },
  {
   "cell_type": "code",
   "execution_count": 341,
   "id": "271d7852-7825-4e01-aff1-bdd4e6b7adf8",
   "metadata": {},
   "outputs": [
    {
     "data": {
      "text/plain": [
       "(3,)"
      ]
     },
     "execution_count": 341,
     "metadata": {},
     "output_type": "execute_result"
    }
   ],
   "source": [
    "a1.shape"
   ]
  },
  {
   "cell_type": "code",
   "execution_count": 342,
   "id": "833be52c-6071-4d31-94ec-284fd3c6a99b",
   "metadata": {},
   "outputs": [
    {
     "data": {
      "text/plain": [
       "(2, 3)"
      ]
     },
     "execution_count": 342,
     "metadata": {},
     "output_type": "execute_result"
    }
   ],
   "source": [
    "a2.shape"
   ]
  },
  {
   "cell_type": "code",
   "execution_count": 343,
   "id": "732ac5e8-bbab-4494-bcd5-cd3339db3f03",
   "metadata": {},
   "outputs": [],
   "source": [
    "a = np.array([1,2,3])\n",
    "b = np.array([4,5,6])"
   ]
  },
  {
   "cell_type": "code",
   "execution_count": 344,
   "id": "bd0f65d4-4d42-4279-a6a5-aeb01d28f7c0",
   "metadata": {},
   "outputs": [
    {
     "data": {
      "text/plain": [
       "array([2, 3, 4])"
      ]
     },
     "execution_count": 344,
     "metadata": {},
     "output_type": "execute_result"
    }
   ],
   "source": [
    "a+1"
   ]
  },
  {
   "cell_type": "code",
   "execution_count": 345,
   "id": "7b0f0eef-2306-407a-9f4a-a32cfca44329",
   "metadata": {},
   "outputs": [],
   "source": [
    "a = np.array([[1,2],[3,4]])\n",
    "b = np.array([[1,2],[3,4]])"
   ]
  },
  {
   "cell_type": "code",
   "execution_count": 346,
   "id": "d578651e-1135-45eb-a5d5-c2ea6484e526",
   "metadata": {},
   "outputs": [
    {
     "data": {
      "text/plain": [
       "array([[ 1,  4],\n",
       "       [ 9, 16]])"
      ]
     },
     "execution_count": 346,
     "metadata": {},
     "output_type": "execute_result"
    }
   ],
   "source": [
    "a*b"
   ]
  },
  {
   "cell_type": "code",
   "execution_count": 347,
   "id": "d58023ed-a219-46f2-94a7-d934c1ef7e67",
   "metadata": {},
   "outputs": [],
   "source": [
    "a=np.array([1,2,3])"
   ]
  },
  {
   "cell_type": "code",
   "execution_count": 348,
   "id": "c3edff79-ea13-47ef-9b75-86ec52e01f14",
   "metadata": {},
   "outputs": [
    {
     "data": {
      "text/plain": [
       "2.0"
      ]
     },
     "execution_count": 348,
     "metadata": {},
     "output_type": "execute_result"
    }
   ],
   "source": [
    "np.median(a)"
   ]
  },
  {
   "cell_type": "code",
   "execution_count": 349,
   "id": "9667b914-c223-4025-b679-8c0e633cee73",
   "metadata": {},
   "outputs": [],
   "source": [
    "a = np.array([[1,2,3],[4,5,6]])"
   ]
  },
  {
   "cell_type": "code",
   "execution_count": 350,
   "id": "852cb488-4c68-483c-8ad3-cf449655f273",
   "metadata": {},
   "outputs": [
    {
     "data": {
      "text/plain": [
       "array([2., 5.])"
      ]
     },
     "execution_count": 350,
     "metadata": {},
     "output_type": "execute_result"
    }
   ],
   "source": [
    "np.mean(a,axis=1)"
   ]
  },
  {
   "cell_type": "code",
   "execution_count": 351,
   "id": "cadb1633-dae9-4e7f-af3e-792ffa1db377",
   "metadata": {},
   "outputs": [
    {
     "data": {
      "text/plain": [
       "array([2.5, 3.5, 4.5])"
      ]
     },
     "execution_count": 351,
     "metadata": {},
     "output_type": "execute_result"
    }
   ],
   "source": [
    "np.mean(a,axis=0)"
   ]
  },
  {
   "cell_type": "code",
   "execution_count": 352,
   "id": "d29e577d-fb50-40ef-bb17-858872d82fe3",
   "metadata": {},
   "outputs": [],
   "source": [
    "a = np.array([1, 2, 3, 4, 5])"
   ]
  },
  {
   "cell_type": "code",
   "execution_count": 353,
   "id": "f082ca99-8538-4b82-b666-1d6344484eb2",
   "metadata": {},
   "outputs": [
    {
     "data": {
      "text/plain": [
       "1"
      ]
     },
     "execution_count": 353,
     "metadata": {},
     "output_type": "execute_result"
    }
   ],
   "source": [
    "a[0]"
   ]
  },
  {
   "cell_type": "code",
   "execution_count": 354,
   "id": "c98951a7-d30f-48e3-a7a4-ac820dda3f02",
   "metadata": {},
   "outputs": [],
   "source": [
    "a = np.array([[1,2,3],[4,5,6]])"
   ]
  },
  {
   "cell_type": "code",
   "execution_count": 355,
   "id": "da8ec242-4ab2-441a-8f72-f747e5edcb36",
   "metadata": {},
   "outputs": [
    {
     "data": {
      "text/plain": [
       "array([1, 2, 3])"
      ]
     },
     "execution_count": 355,
     "metadata": {},
     "output_type": "execute_result"
    }
   ],
   "source": [
    "a[0]"
   ]
  },
  {
   "cell_type": "code",
   "execution_count": 356,
   "id": "42fb993b-6dde-4b1d-b2d0-be5e43315e3d",
   "metadata": {},
   "outputs": [
    {
     "data": {
      "text/plain": [
       "1"
      ]
     },
     "execution_count": 356,
     "metadata": {},
     "output_type": "execute_result"
    }
   ],
   "source": [
    "a[0][0]"
   ]
  },
  {
   "cell_type": "code",
   "execution_count": 357,
   "id": "2d931d54-0031-4d0e-ae80-eb15afec120d",
   "metadata": {},
   "outputs": [
    {
     "data": {
      "text/plain": [
       "5"
      ]
     },
     "execution_count": 357,
     "metadata": {},
     "output_type": "execute_result"
    }
   ],
   "source": [
    "a[1][1]"
   ]
  },
  {
   "cell_type": "code",
   "execution_count": 358,
   "id": "ba9f4021-4a51-4759-87fc-46313e506000",
   "metadata": {},
   "outputs": [],
   "source": [
    "a = np.array([[1, 2], [3, 4], [5, 6]])"
   ]
  },
  {
   "cell_type": "code",
   "execution_count": 359,
   "id": "48205b66-4c64-4ea0-b8c1-edfcad570619",
   "metadata": {},
   "outputs": [
    {
     "data": {
      "text/plain": [
       "array([[1, 2],\n",
       "       [3, 4],\n",
       "       [5, 6]])"
      ]
     },
     "execution_count": 359,
     "metadata": {},
     "output_type": "execute_result"
    }
   ],
   "source": [
    "a"
   ]
  },
  {
   "cell_type": "code",
   "execution_count": 360,
   "id": "321c1bbc-7f47-4b2d-94c4-9274151d7ebc",
   "metadata": {},
   "outputs": [
    {
     "data": {
      "text/plain": [
       "array([[1, 2, 3],\n",
       "       [4, 5, 6]])"
      ]
     },
     "execution_count": 360,
     "metadata": {},
     "output_type": "execute_result"
    }
   ],
   "source": [
    "a.reshape((2, 3))"
   ]
  },
  {
   "cell_type": "code",
   "execution_count": 361,
   "id": "c4522833-38d2-4f7a-b84a-94d591174f1c",
   "metadata": {},
   "outputs": [
    {
     "data": {
      "text/plain": [
       "array([[1, 3, 5],\n",
       "       [2, 4, 6]])"
      ]
     },
     "execution_count": 361,
     "metadata": {},
     "output_type": "execute_result"
    }
   ],
   "source": [
    "a.T"
   ]
  },
  {
   "cell_type": "code",
   "execution_count": 362,
   "id": "33623665-0990-4b7c-b00f-9530a63dd59e",
   "metadata": {},
   "outputs": [
    {
     "data": {
      "text/plain": [
       "array([[1, 2],\n",
       "       [3, 4],\n",
       "       [5, 6]])"
      ]
     },
     "execution_count": 362,
     "metadata": {},
     "output_type": "execute_result"
    }
   ],
   "source": [
    "a"
   ]
  },
  {
   "cell_type": "code",
   "execution_count": 363,
   "id": "8514905f-c9d8-4e63-880a-cab252d5ebdd",
   "metadata": {},
   "outputs": [],
   "source": [
    "a = np.array([1, 2, 3])\n",
    "b = np.array([4, 5, 6])\n",
    "c = np.array([7, 8, 9])"
   ]
  },
  {
   "cell_type": "code",
   "execution_count": 364,
   "id": "40ff9326-97d3-4d4e-b2e3-f92a1b1d9b1f",
   "metadata": {},
   "outputs": [
    {
     "data": {
      "text/plain": [
       "array([1, 2, 3, 4, 5, 6, 7, 8, 9])"
      ]
     },
     "execution_count": 364,
     "metadata": {},
     "output_type": "execute_result"
    }
   ],
   "source": [
    "np.concatenate((a, b, c))"
   ]
  },
  {
   "cell_type": "code",
   "execution_count": 365,
   "id": "60e8e4ef-10ba-45cf-ab0f-c666e4bc1944",
   "metadata": {},
   "outputs": [
    {
     "data": {
      "text/plain": [
       "array([1, 2, 3, 4, 5, 6])"
      ]
     },
     "execution_count": 365,
     "metadata": {},
     "output_type": "execute_result"
    }
   ],
   "source": [
    "np.concatenate((a, b))"
   ]
  },
  {
   "cell_type": "code",
   "execution_count": 366,
   "id": "164208cd-35c1-491c-9061-af147a71e13d",
   "metadata": {},
   "outputs": [],
   "source": [
    "a = np.array([[1, 2], [3, 4]])\n",
    "b = np.array([[5, 6]])"
   ]
  },
  {
   "cell_type": "code",
   "execution_count": 367,
   "id": "228937d6-a62d-4288-82bf-775dbcf237bc",
   "metadata": {},
   "outputs": [
    {
     "data": {
      "text/plain": [
       "array([[1, 2],\n",
       "       [3, 4],\n",
       "       [5, 6]])"
      ]
     },
     "execution_count": 367,
     "metadata": {},
     "output_type": "execute_result"
    }
   ],
   "source": [
    "np.concatenate((a, b), axis=0)"
   ]
  },
  {
   "cell_type": "code",
   "execution_count": 368,
   "id": "7a48ca32-1859-4e70-afbe-976d816c6b18",
   "metadata": {},
   "outputs": [],
   "source": [
    "a = np.array([1, 2, 3, 4, 5, 6])"
   ]
  },
  {
   "cell_type": "code",
   "execution_count": 369,
   "id": "bedeb8ae-a359-4c62-9661-bf1576fd54e7",
   "metadata": {},
   "outputs": [],
   "source": [
    "b, c = np.split(a, [3])"
   ]
  },
  {
   "cell_type": "code",
   "execution_count": 370,
   "id": "f7a338e5-0ed2-4f5d-8afd-b520270aaa55",
   "metadata": {},
   "outputs": [
    {
     "name": "stdout",
     "output_type": "stream",
     "text": [
      "[1 2 3]\n",
      "[4 5 6]\n"
     ]
    }
   ],
   "source": [
    "print(b)\n",
    "print(c)"
   ]
  }
 ],
 "metadata": {
  "kernelspec": {
   "display_name": "Python [conda env:base] *",
   "language": "python",
   "name": "conda-base-py"
  },
  "language_info": {
   "codemirror_mode": {
    "name": "ipython",
    "version": 3
   },
   "file_extension": ".py",
   "mimetype": "text/x-python",
   "name": "python",
   "nbconvert_exporter": "python",
   "pygments_lexer": "ipython3",
   "version": "3.12.7"
  }
 },
 "nbformat": 4,
 "nbformat_minor": 5
}
